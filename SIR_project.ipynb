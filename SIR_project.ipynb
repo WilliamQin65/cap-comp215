{
  "nbformat": 4,
  "nbformat_minor": 0,
  "metadata": {
    "colab": {
      "provenance": [],
      "authorship_tag": "ABX9TyMqPX9kSmOyV6fzD1op18cv",
      "include_colab_link": true
    },
    "kernelspec": {
      "name": "python3",
      "display_name": "Python 3"
    },
    "language_info": {
      "name": "python"
    }
  },
  "cells": [
    {
      "cell_type": "markdown",
      "metadata": {
        "id": "view-in-github",
        "colab_type": "text"
      },
      "source": [
        "<a href=\"https://colab.research.google.com/github/WilliamQin65/cap-comp215/blob/main/SIR_project.ipynb\" target=\"_parent\"><img src=\"https://colab.research.google.com/assets/colab-badge.svg\" alt=\"Open In Colab\"/></a>"
      ]
    },
    {
      "cell_type": "code",
      "execution_count": null,
      "metadata": {
        "id": "_v_osb-NXuu-"
      },
      "outputs": [],
      "source": [
        "import numpy as np\n",
        "import matplotlib.pyplot as plt\n",
        "import matplotlib.animation as animation\n",
        "\n",
        "class SIR_CA:\n",
        "    def __init__(self, width, height, transmission_rate, recovery_rate, initial_state):\n",
        "        self.width = width\n",
        "        self.height = height\n",
        "        self.transmission_rate = transmission_rate\n",
        "        self.recovery_rate = recovery_rate\n",
        "        self.grid = np.array(initial_state)\n",
        "        self.time_step = 0\n",
        "        self.num_infected_history = []\n",
        "        self.num_susceptible_history = []\n",
        "        self.num_recovered_history = []\n",
        "\n",
        "    def step(self, vaccination_rate=0):\n",
        "        # Calculate the number of infected neighbors for each cell\n",
        "        neighbor_kernel = np.array([[0, 1, 0],\n",
        "                                    [1, 0, 1],\n",
        "                                    [0, 1, 0]])\n",
        "        num_infected_neighbors = np.zeros((self.width, self.height), dtype=int)\n",
        "        for dx in range(-1, 2):\n",
        "            for dy in range(-1, 2):\n",
        "                if dx == 0 and dy == 0:\n",
        "                    continue\n",
        "                shifted_grid = np.roll(self.grid, (dx, dy), axis=(0, 1))\n",
        "                num_infected_neighbors += neighbor_kernel * (shifted_grid == 1)\n",
        "\n",
        "        # Update the grid based on the SIR model\n",
        "        new_grid = np.copy(self.grid)\n",
        "        susceptible_cells = (self.grid == 0)\n",
        "        infected_cells = (self.grid == 1)\n",
        "        recovered_cells = (self.grid == 2)\n",
        "        new_grid[susceptible_cells] = np.random.binomial(1, (1 - vaccination_rate) * (1 - (1 - self.transmission_rate) ** num_infected_neighbors[susceptible_cells]))\n",
        "        new_grid[infected_cells] = np.random.binomial(1, 1 - self.recovery_rate)\n",
        "        new_grid[recovered_cells] = 2\n",
        "        self.grid = new_grid\n",
        "\n",
        "        # Update the number of cells in each state\n",
        "        self.num_infected_history.append(np.sum(self.grid == 1))\n",
        "        self.num_susceptible_history.append(np.sum(self.grid == 0))\n",
        "        self.num_recovered_history.append(np.sum(self.grid == 2))\n",
        "\n",
        "        self.time_step += 1\n",
        "\n",
        "    def run(self, num_steps, vaccination_rate=0):\n",
        "        for i in range(num_steps):\n",
        "            self.step(vaccination_rate)\n",
        "\n",
        "    def animate(self, num_steps, interval, vaccination_rate=0):\n",
        "        fig, (ax1, ax2) = plt.subplots(1, 2, figsize=(10, 4))\n",
        "        ims = []\n",
        "        for i in range(num_steps):\n",
        "            im = ax1.imshow(self.grid, cmap='viridis', animated=True)\n",
        "            ax1.set_title(f\"Time Step: {i}\")\n",
        "            ims.append([im])\n",
        "            self.step(vaccination_rate)\n",
        "        ani = animation.ArtistAnimation(fig, ims, interval=interval, blit=True, repeat_delay=1000)"
      ]
    }
  ]
}