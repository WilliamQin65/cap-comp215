{
  "nbformat": 4,
  "nbformat_minor": 0,
  "metadata": {
    "colab": {
      "provenance": [],
      "authorship_tag": "ABX9TyNkI77oMcrn2A4mcL7e9z0d",
      "include_colab_link": true
    },
    "kernelspec": {
      "name": "python3",
      "display_name": "Python 3"
    },
    "language_info": {
      "name": "python"
    }
  },
  "cells": [
    {
      "cell_type": "markdown",
      "metadata": {
        "id": "view-in-github",
        "colab_type": "text"
      },
      "source": [
        "<a href=\"https://colab.research.google.com/github/WilliamQin65/cap-comp215/blob/main/SIR_project.ipynb\" target=\"_parent\"><img src=\"https://colab.research.google.com/assets/colab-badge.svg\" alt=\"Open In Colab\"/></a>"
      ]
    },
    {
      "cell_type": "code",
      "source": [
        "%matplotlib inline\n",
        "\n",
        "import time\n",
        "import math\n",
        "import matplotlib\n",
        "import matplotlib.pyplot as plt\n",
        "import numpy as np\n",
        "\n",
        "from dataclasses import dataclass\n",
        "from matplotlib import animation\n",
        "from scipy.signal import correlate2d\n",
        "\n",
        "# Configure matplotlib's animation library to work in the browser.\n",
        "matplotlib.rc('animation', html='jshtml')"
      ],
      "metadata": {
        "id": "VZCEFGgEtDCy"
      },
      "execution_count": 3,
      "outputs": []
    },
    {
      "cell_type": "code",
      "source": [
        "DEFAULT_IMSHOW_OPTIONS = dict(\n",
        "    cmap='Blues',\n",
        "    interpolation='none',\n",
        "    origin='upper',\n",
        ")\n",
        "\n",
        "def plot_2D_array(array, axes=None, title='', **options):\n",
        "    \"\"\" Plot the 2D array as an image on the given axes  1's will be dark blue, 0's will be light blue. \"\"\"\n",
        "    axes = axes or plt.gca()  # If not axes are provided, draw on current axes\n",
        "    axes.set_title(title)\n",
        "    axes.set_xticks([], [])  # remove axes tick marks\n",
        "    axes.set_yticks([], [])\n",
        "    options = {**DEFAULT_IMSHOW_OPTIONS, **options}\n",
        "    axes.imshow(array, **options)"
      ],
      "metadata": {
        "id": "Irl7XHCatgJU"
      },
      "execution_count": 4,
      "outputs": []
    },
    {
      "cell_type": "code",
      "source": [
        "class Animation2D:\n",
        "    \"\"\"\n",
        "      Animates any 2D model with a step() method and a draw() method, using matplotlib\n",
        "      model.step() should take no parameters - just step the model forward one step.\n",
        "      model.draw() should take 2 parameters, the matpltolib axes to draw on and an integer step number\n",
        "\n",
        "      See https://www.allendowney.com/blog/2019/07/25/matplotlib-animation-in-jupyter/\n",
        "          for a discussion of the pros and cons of various animation techniques in jupyter notebooks\n",
        "    \"\"\"\n",
        "\n",
        "    def __init__(self, model, frames=50, steps_per_frame=1, figsize=(8, 8)):\n",
        "        \"\"\"\n",
        "        :param model: the simulation object to animate, with step() and draw(axes, step) methods\n",
        "        :param frames: number of animation frames to generate\n",
        "        \"\"\"\n",
        "        self.model = model\n",
        "        self.frames = frames\n",
        "        self.steps_per_frame = steps_per_frame\n",
        "        self.fig, self.ax = plt.subplots(figsize=figsize)\n",
        "\n",
        "    def animation_step(self, step):\n",
        "        \"\"\" Step the model forward and draw the plot \"\"\"\n",
        "        if step > 0:\n",
        "            for _ in range(self.steps_per_frame):\n",
        "                self.model.step()\n",
        "        self.model.draw(self.ax, step=step * self.steps_per_frame)\n",
        "\n",
        "    def show(self):\n",
        "        \"\"\" return the matplotlib animation object, ready for display \"\"\"\n",
        "        anim = animation.FuncAnimation(self.fig, self.animation_step, frames=self.frames)\n",
        "        plt.close()  # this ensures the last frame is not shown as a separate plot\n",
        "        return anim\n",
        "\n",
        "    def animate(self, interval=None):\n",
        "        \"\"\" Animate the model simulation directly in the notebook display block \"\"\"\n",
        "        from IPython.display import clear_output\n",
        "        try:\n",
        "            for i in range(self.frames):\n",
        "                clear_output(wait=True)  # clear the IPython display\n",
        "                self.ax.clear()  # clear old image from the axes (fixes a performance issue)\n",
        "                plt.figure(self.fig)  # add the figure back to pyplot ** sigh **\n",
        "                self.animation_step(i)\n",
        "                plt.show()  # show the current animation frame (pyplot then closes and throws away figure ** sigh **)\n",
        "                if interval:\n",
        "                    time.sleep(interval)\n",
        "        except KeyboardInterrupt:\n",
        "            pass"
      ],
      "metadata": {
        "id": "VkdmZS_ftDyq"
      },
      "execution_count": 2,
      "outputs": []
    },
    {
      "cell_type": "code",
      "source": [
        "class SIRModel:\n",
        "    \"\"\" 2D Cellular Automaton that simulates the spread of an infectious disease using the SIR model \"\"\"\n",
        "\n",
        "    # Define names for the 3 possible cell states\n",
        "    SUSCEPTIBLE = 0\n",
        "    INFECTED = 1\n",
        "    REMOVED = 2\n",
        "\n",
        "    # Define a colour map that maps each cell state to an intuitive colour.\n",
        "    cmap = [(0, 1, 0), (1, 0, 0), (0, 0, 1)]\n",
        "    cmap[SUSCEPTIBLE] = (0, 1, 0)  # green\n",
        "    cmap[INFECTED] = (1, 0, 0)  # red\n",
        "    cmap[REMOVED] = (0, 0, 1)  # blue\n",
        "    sir_colour_map = matplotlib.colors.ListedColormap(cmap)\n",
        "\n",
        "    # TODO: define a sensible correlation kernel\n",
        "    kernel = np.array([[0, 1, 0],\n",
        "                       [1, 0, 1],\n",
        "                       [0, 1, 0]])\n",
        "\n",
        "    def __init__(self, n, p=0.01, i=0.01, r=0, beta=0.5, gamma=0.1):\n",
        "        \"\"\"Initializes the model.\n",
        "        n: number of rows\n",
        "        p: initial proportion of cells that are susceptible\n",
        "        i: initial proportion of cells that are infected\n",
        "        r: initial proportion of cells that are removed (immune or deceased)\n",
        "        beta: infection rate (probability that an infected cell infects one of its susceptible neighbors)\n",
        "        gamma: recovery rate (probability that an infected cell becomes removed)\n",
        "        \"\"\"\n",
        "        self.n = n\n",
        "        self.p = p\n",
        "        self.i = i\n",
        "        self.r = r\n",
        "        self.beta = beta\n",
        "        self.gamma = gamma\n",
        "        # initialize landscape with initial proportions of each cell state\n",
        "        self.array = np.zeros((n, n), dtype=int)\n",
        "        self.array[np.random.random((n, n)) < p] = self.SUSCEPTIBLE\n",
        "        self.array[np.random.random((n, n)) < i] = self.INFECTED\n",
        "        self.array[np.random.random((n, n)) < r] = self.REMOVED\n",
        "\n",
        "    def step(self):\n",
        "        \"\"\"Executes one time step, applying the CA rules to simulate the spread of the disease.\n",
        "        \"\"\"\n",
        "        # TODO: define the rules for the CA.\n",
        "        susceptible = self.array == self.SUSCEPTIBLE\n",
        "        infected = self.array == self.INFECTED\n",
        "        removed = self.array == self.REMOVED\n",
        "\n",
        "        # step 1: An infected cell infects each of its susceptible neighbors with probability beta.\n",
        "        neighbor_sum = correlate2d(infected, self.kernel, mode='same', boundary='wrap')\n",
        "        infections = np.random.random(self.array.shape) < (self.beta * neighbor_sum) * susceptible\n",
        "        self.array[infections] = self.INFECTED\n",
        "        # step 2: An infected cell becomes removed with probability gamma.\n",
        "        recoveries = np.random.random(self.array.shape) < self.gamma * infected\n",
        "        self.array[recoveries] = self.REMOVED\n",
        "\n",
        "    def num_infected(self):\n",
        "        \"\"\" return the number of cells infected \"\"\"\n",
        "        return np.sum(self.array == self.INFECTED)\n",
        "\n",
        "    def pct_infected(self):\n",
        "        \"\"\" return the proportion of cells infected \"\"\"\n",
        "        return self.num_infected() / self.array.size\n",
        "\n",
        "    def draw(self, axes=None, step=''):\n",
        "        \"\"\"Draws the CA cells.\"\"\"\n",
        "        axes = axes or plt.axes\n",
        "        title = f'Time:{step} Infected: {round(self.pct_infected() * 100, 2)}%'\n",
        "        plot_2D_array(self.array, axes=axes, title=title,\n",
        "                      cmap=self.sir_colour_map, vmin=0, vmax=len(self.sir_colour_map.colors))"
      ],
      "metadata": {
        "id": "YebJgQkrtHl8"
      },
      "execution_count": 11,
      "outputs": []
    },
    {
      "cell_type": "code",
      "source": [
        "sir = SIRModel(100,0.01,0.01,0.5,0.01)\n",
        "Animation = Animation2D(sir,frames = 100, steps_per_frame = 1)\n",
        "Animation.animate(0.3)"
      ],
      "metadata": {
        "colab": {
          "base_uri": "https://localhost:8080/",
          "height": 675
        },
        "id": "YCYZozNttvfw",
        "outputId": "0e92d0e6-69c0-45e4-f7d2-ae7468f78a7b"
      },
      "execution_count": 12,
      "outputs": [
        {
          "output_type": "display_data",
          "data": {
            "text/plain": [
              "<Figure size 800x800 with 1 Axes>"
            ],
            "image/png": "[encoded data removed]"
          },
          "metadata": {}
        }
      ]
    }
  ]
}