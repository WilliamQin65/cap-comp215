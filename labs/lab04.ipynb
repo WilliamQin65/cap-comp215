{
  "cells": [
    {
      "cell_type": "markdown",
      "source": [
        "COMP 215 - LAB 4 (Graphs)\n",
        "-------------------------\n",
        "#### Name: William Qin\n",
        "#### Date: 2023/01/25\n",
        "\n",
        "This lab exercise is an introduction to Graphs and Graph Analysis using [NetworkX](https://networkx.org/documentation/stable/).\n",
        "\n",
        "**New Python concepts**:\n",
        "  * **NetworkX** is an open-source package.  It provides a `Graph` object to represent a graph.\n",
        "  * Built-in `random` module provides algorithms for generating pseudo-random sequences\n",
        "  * [Generator expression](https://towardsdatascience.com/understanding-generator-expressions-in-python-fe0c4534619) - similar to a list comprehension, but faster and using much less memory!\n",
        "\n",
        "**Credits**:\n",
        "    Code examples based on [Think Complexity, 2nd edition](https://thinkcomplex.com).\n",
        "    Copyright 2016 Allen Downey, [MIT License](http://opensource.org/licenses/MIT)\n",
        "\n",
        "As usual, the first code cell simply imports all the modules we'll be using..."
      ],
      "metadata": {
        "collapsed": false,
        "pycharm": {
          "name": "#%% md\n"
        },
        "id": "u2o5xt0kW5Vx"
      }
    },
    {
      "cell_type": "code",
      "execution_count": 2,
      "outputs": [],
      "source": [
        "import math\n",
        "import random\n",
        "import statistics\n",
        "from timeit import timeit\n",
        "\n",
        "import matplotlib.pyplot as plt\n",
        "import networkx as nx"
      ],
      "metadata": {
        "pycharm": {
          "name": "#%%\n"
        },
        "id": "JLhT3EAlW5V0"
      }
    },
    {
      "cell_type": "markdown",
      "source": [
        "## Directed graph\n",
        "\n",
        "The first example is a directed graph that represents a social network with four nodes."
      ],
      "metadata": {
        "collapsed": false,
        "pycharm": {
          "name": "#%% md\n"
        },
        "id": "IxjevktFW5V2"
      }
    },
    {
      "cell_type": "code",
      "execution_count": 3,
      "outputs": [
        {
          "output_type": "execute_result",
          "data": {
            "text/plain": [
              "['John', 'Alice', 'Bob', 'Chuck']"
            ]
          },
          "metadata": {},
          "execution_count": 3
        }
      ],
      "source": [
        "social_network = nx.DiGraph()\n",
        "social_network.add_node('John')\n",
        "social_network.add_node('Alice')\n",
        "social_network.add_node('Bob')\n",
        "social_network.add_node('Chuck')\n",
        "list(social_network.nodes())"
      ],
      "metadata": {
        "pycharm": {
          "name": "#%%\n"
        },
        "colab": {
          "base_uri": "https://localhost:8080/"
        },
        "id": "pMcZH4qSW5V3",
        "outputId": "c001b9df-22f7-4dc5-ae0e-3a9f7a8ed580"
      }
    },
    {
      "cell_type": "markdown",
      "source": [
        "Add some edges between nodes to represent the \"Follows\" relationship (e.g., Alice \"follows\" Bob)"
      ],
      "metadata": {
        "collapsed": false,
        "pycharm": {
          "name": "#%% md\n"
        },
        "id": "pzlbviVEW5V4"
      }
    },
    {
      "cell_type": "code",
      "execution_count": 4,
      "outputs": [
        {
          "output_type": "execute_result",
          "data": {
            "text/plain": [
              "[('John', 'Bob'),\n",
              " ('John', 'Alice'),\n",
              " ('Alice', 'Bob'),\n",
              " ('Alice', 'Chuck'),\n",
              " ('Bob', 'Alice'),\n",
              " ('Bob', 'Chuck')]"
            ]
          },
          "metadata": {},
          "execution_count": 4
        }
      ],
      "source": [
        "social_network.add_edge('Alice', 'Bob')\n",
        "social_network.add_edge('Alice', 'Chuck')\n",
        "social_network.add_edge('Bob', 'Alice')\n",
        "social_network.add_edge('Bob', 'Chuck')\n",
        "social_network.add_edge('John','Bob')\n",
        "social_network.add_edge('John','Alice')\n",
        "list(social_network.edges())"
      ],
      "metadata": {
        "pycharm": {
          "name": "#%%\n"
        },
        "colab": {
          "base_uri": "https://localhost:8080/"
        },
        "id": "m26rzkUKW5V4",
        "outputId": "377e9f11-ddc6-4c89-fb47-eedd82627d90"
      }
    },
    {
      "cell_type": "markdown",
      "source": [
        "And here's how to draw the graph.\n",
        "Modify the draw parameters to see how to customize the display [[docs](https://networkx.org/documentation/stable/reference/generated/networkx.drawing.nx_pylab.draw_networkx.html)]"
      ],
      "metadata": {
        "collapsed": false,
        "pycharm": {
          "name": "#%% md\n"
        },
        "id": "eb1wghABW5V4"
      }
    },
    {
      "cell_type": "code",
      "execution_count": 5,
      "outputs": [
        {
          "output_type": "display_data",
          "data": {
            "text/plain": [
              "<Figure size 432x288 with 1 Axes>"
            ],
            "image/png": "[encoded data removed]"
          },
          "metadata": {}
        }
      ],
      "source": [
        "nx.draw_circular(social_network,\n",
        "                 node_color='#bbddff',\n",
        "                 node_size=2000,\n",
        "                 with_labels=True)\n",
        "plt.axis('equal')\n",
        "plt.show()"
      ],
      "metadata": {
        "pycharm": {
          "name": "#%%\n"
        },
        "colab": {
          "base_uri": "https://localhost:8080/",
          "height": 319
        },
        "id": "1NiQnzICW5V5",
        "outputId": "b6389c3e-d250-4020-fdce-ce2075301a27"
      }
    },
    {
      "cell_type": "markdown",
      "source": [
        "### Exercise 1:\n",
        "Add at least 2 additional nodes (users) and a few more edges (follows relations) and re-draw the graph.\n",
        "Don't modify the code above, instead, re-create and draw a new graph with the extra nodes."
      ],
      "metadata": {
        "collapsed": false,
        "pycharm": {
          "name": "#%% md\n"
        },
        "id": "um1FZKVsW5V5"
      }
    },
    {
      "cell_type": "code",
      "source": [
        "social_network = nx.DiGraph()\n",
        "social_network.add_node('John')\n",
        "social_network.add_node('Alice')\n",
        "social_network.add_node('Bob')\n",
        "social_network.add_node('Chuck')\n",
        "social_network.add_node('William')\n",
        "social_network.add_node('Jane')\n",
        "list(social_network.nodes())\n",
        "\n",
        "social_network.add_edge('Alice', 'Bob')\n",
        "social_network.add_edge('Alice', 'Chuck')\n",
        "social_network.add_edge('Bob', 'Alice')\n",
        "social_network.add_edge('Bob', 'Chuck')\n",
        "social_network.add_edge('John','Bob')\n",
        "social_network.add_edge('John','Alice')\n",
        "social_network.add_edge('William','Jane')\n",
        "social_network.add_edge('Jane','William')\n",
        "social_network.add_edge('John','Jane')\n",
        "social_network.add_edge('Chuck', 'William')\n",
        "social_network.add_edge('William', 'Chuck')\n",
        "social_network.add_edge('Chuck','John')\n",
        "social_network.add_edge('John','Chuck')\n",
        "\n",
        "list(social_network.edges())\n",
        "\n",
        "nx.draw_circular(social_network,\n",
        "                 node_color='#bbddff',\n",
        "                 node_size=2000,\n",
        "                 with_labels=True)\n",
        "plt.axis('equal')\n",
        "plt.show()"
      ],
      "metadata": {
        "colab": {
          "base_uri": "https://localhost:8080/",
          "height": 319
        },
        "id": "owUagsA0W7zu",
        "outputId": "f7582082-742c-42c4-ce21-57c3a0a5341a"
      },
      "execution_count": 6,
      "outputs": [
        {
          "output_type": "display_data",
          "data": {
            "text/plain": [
              "<Figure size 432x288 with 1 Axes>"
            ],
            "image/png": "[encoded data removed]"
          },
          "metadata": {}
        }
      ]
    },
    {
      "cell_type": "markdown",
      "source": [
        "## Undirected graph\n",
        "\n",
        "The second example is an undirected graph that represents cities and the driving times between them.\n",
        "\n",
        "`locations` is a dictionary that maps from each city to a spatial coordinate and\n",
        "`drive_times` is a dictionary that maps a pair of cities to the driving time in minutes between them."
      ],
      "metadata": {
        "collapsed": false,
        "pycharm": {
          "name": "#%% md\n"
        },
        "id": "BsuxU9MXW5V5"
      }
    },
    {
      "cell_type": "code",
      "execution_count": 7,
      "outputs": [
        {
          "output_type": "execute_result",
          "data": {
            "text/plain": [
              "'From North Van at (5, 5) the drive time to Burnaby is 20 minutes.'"
            ],
            "application/vnd.google.colaboratory.intrinsic+json": {
              "type": "string"
            }
          },
          "metadata": {},
          "execution_count": 7
        }
      ],
      "source": [
        "locations = dict(NorthVan=(5, 5),\n",
        "                 Burnaby=(7, 1),\n",
        "                 Vancouver=(0, 0),  # position Vancouver at the centre of the universe, of course ;-)\n",
        "                 Richmond=(-1, -4))\n",
        "\n",
        "drive_times = {('NorthVan', 'Burnaby'): 20,\n",
        "               ('NorthVan', 'Vancouver'): 35,\n",
        "               ('Burnaby', 'Vancouver'): 15,\n",
        "               ('Vancouver', 'Richmond'): 25}\n",
        "\n",
        "f\"From North Van at {locations['NorthVan']} the drive time to Burnaby is {drive_times[('NorthVan', 'Burnaby')]} minutes.\""
      ],
      "metadata": {
        "pycharm": {
          "name": "#%%\n"
        },
        "colab": {
          "base_uri": "https://localhost:8080/",
          "height": 35
        },
        "id": "nqrLblPRW5V6",
        "outputId": "58038ea4-a2bd-4f1d-99c8-71bf066ca0e5"
      }
    },
    {
      "cell_type": "markdown",
      "source": [
        "Now we can use the keys in `locations` to add nodes to a graph,\n",
        "and the `drive_times` keys to define the edges between them\n",
        "Notice how when a `dict` object is treated as a sequence (rather than a mapping), it is a sequence of it's **keys**."
      ],
      "metadata": {
        "collapsed": false,
        "pycharm": {
          "name": "#%% md\n"
        },
        "id": "yAzUxQyTW5V6"
      }
    },
    {
      "cell_type": "code",
      "execution_count": 8,
      "outputs": [
        {
          "output_type": "execute_result",
          "data": {
            "text/plain": [
              "(NodeView(('NorthVan', 'Burnaby', 'Vancouver', 'Richmond')),\n",
              " EdgeView([('NorthVan', 'Burnaby'), ('NorthVan', 'Vancouver'), ('Burnaby', 'Vancouver'), ('Vancouver', 'Richmond')]))"
            ]
          },
          "metadata": {},
          "execution_count": 8
        }
      ],
      "source": [
        "cities = nx.Graph()\n",
        "cities.add_nodes_from(locations)\n",
        "cities.add_edges_from(drive_times)\n",
        "\n",
        "cities.nodes(), cities.edges()"
      ],
      "metadata": {
        "pycharm": {
          "name": "#%%\n"
        },
        "colab": {
          "base_uri": "https://localhost:8080/"
        },
        "id": "JYG0eVajW5V6",
        "outputId": "9c630758-0f30-40ba-8bbd-c67ad26cb1f9"
      }
    },
    {
      "cell_type": "markdown",
      "source": [
        "And we can draw the graph using `locations` to arrange nodes spatially and with `drive_times` to label the edges."
      ],
      "metadata": {
        "collapsed": false,
        "pycharm": {
          "name": "#%% md\n"
        },
        "id": "a-oUq4VcW5V6"
      }
    },
    {
      "cell_type": "code",
      "execution_count": 9,
      "outputs": [
        {
          "output_type": "display_data",
          "data": {
            "text/plain": [
              "<Figure size 432x288 with 1 Axes>"
            ],
            "image/png": "[encoded data removed]"
          },
          "metadata": {}
        }
      ],
      "source": [
        "nx.draw(cities, locations,\n",
        "        node_color='#99ff99',\n",
        "        node_shape='s',\n",
        "        node_size=3000,\n",
        "        with_labels=True)\n",
        "\n",
        "nx.draw_networkx_edge_labels(cities, locations,\n",
        "                             edge_labels=drive_times)\n",
        "\n",
        "plt.axis('equal')\n",
        "plt.show()"
      ],
      "metadata": {
        "pycharm": {
          "name": "#%%\n"
        },
        "colab": {
          "base_uri": "https://localhost:8080/",
          "height": 319
        },
        "id": "y4dV44QAW5V7",
        "outputId": "e9b946ec-e4f0-417d-c03a-430a554bad5e"
      }
    },
    {
      "cell_type": "markdown",
      "source": [
        "### Exercise 2\n",
        "Add at least 2 additional nodes (cities) and edges (drive times) and re-draw the graph.\n",
        "Improve the data in your version of the graph by looking up estimated / average drive times.\n",
        "Don't modify the code above - re-develop a complete solution with your additions / changes in the code block below."
      ],
      "metadata": {
        "collapsed": false,
        "pycharm": {
          "name": "#%% md\n"
        },
        "id": "O3stZ1r6W5V7"
      }
    },
    {
      "cell_type": "code",
      "execution_count": 10,
      "outputs": [
        {
          "output_type": "display_data",
          "data": {
            "text/plain": [
              "<Figure size 432x288 with 1 Axes>"
            ],
            "image/png": "[encoded data removed]"
          },
          "metadata": {}
        }
      ],
      "source": [
        "locations = dict(NorthVan=(5, 5),\n",
        "                 Burnaby=(7, 1),\n",
        "                 Vancouver=(0, 0),  # position Vancouver at the centre of the universe, of course ;-)\n",
        "                 Richmond=(-1, -4),\n",
        "                 Surrey=(2,4),\n",
        "                 WestVan=(3,5),\n",
        "                 Coquitlam=(1,4))\n",
        "\n",
        "drive_times = {('NorthVan', 'Burnaby'): 20,\n",
        "               ('NorthVan', 'Vancouver'): 35,\n",
        "               ('Burnaby', 'Vancouver'): 15,\n",
        "               ('Vancouver', 'Richmond'): 25,\n",
        "               ('NorthVan','WestVan'): 15,\n",
        "               ('Richmond','Burnaby'): 45}\n",
        "\n",
        "f\"From North Van at {locations['NorthVan']} the drive time to Burnaby is {drive_times[('NorthVan', 'Burnaby')]} minutes.\"\n",
        "\n",
        "cities = nx.Graph()\n",
        "cities.add_nodes_from(locations)\n",
        "cities.add_edges_from(drive_times)\n",
        "\n",
        "cities.nodes(), cities.edges()\n",
        "\n",
        "nx.draw(cities, locations,\n",
        "        node_color='#99ff99',\n",
        "        node_shape='s',\n",
        "        node_size=3000,\n",
        "        with_labels=True)\n",
        "\n",
        "nx.draw_networkx_edge_labels(cities, locations,\n",
        "                             edge_labels=drive_times)\n",
        "\n",
        "plt.axis('equal')\n",
        "plt.show()"
      ],
      "metadata": {
        "pycharm": {
          "name": "#%%\n"
        },
        "id": "CEj7Q5s1W5V7",
        "outputId": "c904a7b3-b7e2-4787-ae6a-55954dd83d20",
        "colab": {
          "base_uri": "https://localhost:8080/",
          "height": 319
        }
      }
    },
    {
      "cell_type": "markdown",
      "source": [
        "## Complete graph\n",
        "\n",
        "To make a complete graph, we need an edge between every distinct pair of nodes.\n",
        "The algorithm below creates the complete set of distinct, undirected pairs from a list of input objects.\n",
        "**Be sure you understand how this algorithm works!**  If you need to re-write it as a loop and replace zip with index logic, do it."
      ],
      "metadata": {
        "collapsed": false,
        "pycharm": {
          "name": "#%% md\n"
        },
        "id": "vCb2P_BtW5V7"
      }
    },
    {
      "cell_type": "code",
      "execution_count": 11,
      "outputs": [
        {
          "output_type": "execute_result",
          "data": {
            "text/plain": [
              "[('w', 'x'), ('x', 'y'), ('y', 'z'), ('w', 'y'), ('x', 'z'), ('w', 'z')]"
            ]
          },
          "metadata": {},
          "execution_count": 11
        }
      ],
      "source": [
        "def all_pairs(objects):\n",
        "    \"\"\" Return a generator with the complete set of distinct object pairs, as 2-tuples, from the given iterable of objects \"\"\"\n",
        "    return ((a, b) for i in range(1, len(objects)) for a,b in zip(objects, objects[i:]))\n",
        "\n",
        "list( all_pairs(('w', 'x', 'y', 'z')) )"
      ],
      "metadata": {
        "pycharm": {
          "name": "#%%\n"
        },
        "colab": {
          "base_uri": "https://localhost:8080/"
        },
        "id": "SeFIEhOYW5V7",
        "outputId": "570b5786-db7c-4040-c4c7-4875196e274a"
      }
    },
    {
      "cell_type": "markdown",
      "source": [
        "`make_complete_graph` makes a `Graph` with the given number of nodes and edges between each distinct pair of nodes."
      ],
      "metadata": {
        "collapsed": false,
        "pycharm": {
          "name": "#%% md\n"
        },
        "id": "zBmZBvGjW5V8"
      }
    },
    {
      "cell_type": "code",
      "execution_count": 12,
      "outputs": [],
      "source": [
        "def make_complete_graph(n):\n",
        "    \"\"\" Return a \"complete\" Graph with n nodes labeled 0 .. n-1 \"\"\"\n",
        "    graph = nx.Graph()\n",
        "    labels = range(n)\n",
        "    graph.add_nodes_from(labels)\n",
        "    graph.add_edges_from(all_pairs(labels))\n",
        "    return graph"
      ],
      "metadata": {
        "pycharm": {
          "name": "#%%\n"
        },
        "id": "lqC3jRaiW5V8"
      }
    },
    {
      "cell_type": "code",
      "execution_count": 13,
      "outputs": [
        {
          "output_type": "execute_result",
          "data": {
            "text/plain": [
              "'Complete Graph has 10 nodes and 45 edges'"
            ],
            "application/vnd.google.colaboratory.intrinsic+json": {
              "type": "string"
            }
          },
          "metadata": {},
          "execution_count": 13
        }
      ],
      "source": [
        "complete = make_complete_graph(10)\n",
        "f'Complete Graph has {complete.number_of_nodes()} nodes and {complete.number_of_edges()} edges'"
      ],
      "metadata": {
        "pycharm": {
          "name": "#%%\n"
        },
        "colab": {
          "base_uri": "https://localhost:8080/",
          "height": 35
        },
        "id": "Eswk667hW5V8",
        "outputId": "d369e803-1fec-4672-fc40-ac03ba5eaed7"
      }
    },
    {
      "cell_type": "code",
      "execution_count": 14,
      "outputs": [
        {
          "output_type": "display_data",
          "data": {
            "text/plain": [
              "<Figure size 432x288 with 1 Axes>"
            ],
            "image/png": "[encoded data removed]"
          },
          "metadata": {}
        }
      ],
      "source": [
        "nx.draw_circular(complete,\n",
        "                 node_color='#ffaa99',\n",
        "                 node_size=1000,\n",
        "                 with_labels=True)\n",
        "plt.show()"
      ],
      "metadata": {
        "pycharm": {
          "name": "#%%\n"
        },
        "colab": {
          "base_uri": "https://localhost:8080/",
          "height": 319
        },
        "id": "XyFxhzSCW5V8",
        "outputId": "081c93fa-1068-4ea3-b369-3f9d85e211c3"
      }
    },
    {
      "cell_type": "markdown",
      "source": [
        "The `neighbors` method of a Graph object returns the nodes with an edge a given node.  In a complete graph, that is all other nodes!"
      ],
      "metadata": {
        "collapsed": false,
        "pycharm": {
          "name": "#%% md\n"
        },
        "id": "zau88ZEiW5V9"
      }
    },
    {
      "cell_type": "code",
      "execution_count": 15,
      "outputs": [
        {
          "output_type": "execute_result",
          "data": {
            "text/plain": [
              "'Neighbours of node 3:  [1, 2, 3, 4, 5, 6, 7, 8, 9]'"
            ],
            "application/vnd.google.colaboratory.intrinsic+json": {
              "type": "string"
            }
          },
          "metadata": {},
          "execution_count": 15
        }
      ],
      "source": [
        "node = 3\n",
        "f'Neighbours of node {node}:  {list(complete.neighbors(0))}'"
      ],
      "metadata": {
        "pycharm": {
          "name": "#%%\n"
        },
        "colab": {
          "base_uri": "https://localhost:8080/",
          "height": 35
        },
        "id": "7d8I_iwgW5V9",
        "outputId": "b41ebe0e-9b1e-458a-b0f0-baa9653b2ae9"
      }
    },
    {
      "cell_type": "markdown",
      "source": [
        "### Exercise 3\n",
        "Make another compelete graph with a different number of nodes (again, develop your own graph and diagram below).\n",
        "Verify that each node has the expected number of `neighbors`"
      ],
      "metadata": {
        "collapsed": false,
        "pycharm": {
          "name": "#%% md\n"
        },
        "id": "A72Fbq3BW5V9"
      }
    },
    {
      "cell_type": "code",
      "execution_count": 16,
      "outputs": [],
      "source": [
        "# Solution for Ex. 3 here..."
      ],
      "metadata": {
        "pycharm": {
          "name": "#%%\n"
        },
        "id": "d6BJ6dRmW5V9"
      }
    },
    {
      "cell_type": "markdown",
      "source": [
        "## Random Numbers\n",
        "This is a big topic we will return to several times in Comp215.\n",
        "\n",
        "In the next section we need to randomize the connections (edges) in a graph.\n",
        "Here we'll develop a small function to generate the random sequence for that and explore some of its properties.\n",
        "\n",
        "We `seed` Python's built-in random number generator so we get the same sequence each time (to facilitate debugging and comprehension!)"
      ],
      "metadata": {
        "collapsed": false,
        "pycharm": {
          "name": "#%% md\n"
        },
        "id": "_1qMupmaW5V-"
      }
    },
    {
      "cell_type": "code",
      "execution_count": 17,
      "outputs": [],
      "source": [
        "random.seed(6) # Comment this out to run randomized experiments"
      ],
      "metadata": {
        "pycharm": {
          "name": "#%%\n"
        },
        "id": "2L7B5VTlW5V-"
      }
    },
    {
      "cell_type": "markdown",
      "source": [
        "Repeated calls to the function below will generate a random sequence of True/False values.\n",
        "It's easiest to think of this as a simulated \"coin toss\", where True is \"heads\" and False is \"tails\".\n",
        "But this coin can be \"biased\" - input $p$ specifies the probability of throwing \"heads\" and it need not be 50%!"
      ],
      "metadata": {
        "collapsed": false,
        "pycharm": {
          "name": "#%% md\n"
        },
        "id": "wKAX_NxAW5V-"
      }
    },
    {
      "cell_type": "code",
      "execution_count": 18,
      "outputs": [],
      "source": [
        "def coin_toss(p):\n",
        "    \"\"\" Simulate flipping a biased \"coin\", where the probability of 'heads' is p.  Return True iff 'heads', False otherwise \"\"\"\n",
        "    return random.random() < p"
      ],
      "metadata": {
        "pycharm": {
          "name": "#%%\n"
        },
        "id": "I4v7Jl3KW5V-"
      }
    },
    {
      "cell_type": "markdown",
      "source": [
        "### Exercise 4\n",
        "Use a list comprehension to generate a random sequence of 100 \"fair\" `coin_toss`es  (p = 0.5)\n",
        "Count the number \"heads\" (True) and \"tails\" (False) in the list (hint:  `sum(1 for toss in .... if ....)\n",
        "Rerun the experiment several times to gain a deeper understanding of what this function does.\n",
        "Experiment with different values of $p$.  What is the meaning of $p$ in this context?"
      ],
      "metadata": {
        "collapsed": false,
        "pycharm": {
          "name": "#%% md\n"
        },
        "id": "865kH8udW5V-"
      }
    },
    {
      "cell_type": "code",
      "execution_count": 19,
      "outputs": [
        {
          "output_type": "stream",
          "name": "stdout",
          "text": [
            "Number of heads: 51\n",
            "Number of tails: 49\n"
          ]
        }
      ],
      "source": [
        "def coin_toss(p):\n",
        "    \"\"\" Simulate flipping a biased \"coin\", where the probability of 'heads' is p.  Return True iff 'heads', False otherwise \"\"\"\n",
        "    return random.random() < p\n",
        "\n",
        "p = 0.5\n",
        "\n",
        "coin = [coin_toss(p) for i in range(100)]\n",
        "tail = sum(1 for toss in coin if toss)\n",
        "head = sum(1 for toss in coin if not toss)\n",
        "\n",
        "print(f'Number of heads: {head}')\n",
        "print(f'Number of tails: {tail}')\n"
      ],
      "metadata": {
        "pycharm": {
          "name": "#%%\n"
        },
        "id": "9S1KetPdW5V-",
        "colab": {
          "base_uri": "https://localhost:8080/"
        },
        "outputId": "73a20973-cb7f-4666-ea76-f54fc3f4d402"
      }
    },
    {
      "cell_type": "markdown",
      "source": [
        "P means the possibility of coin tossing. It is a fifty-fifty percent for this case."
      ],
      "metadata": {
        "id": "LD03bYf3hFh1"
      }
    },
    {
      "cell_type": "markdown",
      "source": [
        "## Random graphs\n",
        "from the textbook...\n",
        "> One of the more interesting \\[random graphs\\] is the Erdős-Rényi model, studied by Paul Erdős and Alfréd Rényi in the 1960s.\n",
        "\n",
        "> An Erdős-Rényi graph (ER graph) is characterized by two parameters: $n$ is the number of nodes and $p$ is the probability that there is an edge between any two nodes.\n",
        "\n",
        "> Erdős and Rényi studied the properties of these random graphs; one of their surprising results is the existence of abrupt changes in the properties of random graphs as random edges are added.\n",
        "\n",
        "In the remainder of the lab we will work towards re-producing this computational experiment.\n",
        "\n",
        "We start by making an ER graph where the probability of an edge between each pair of nodes is $p$."
      ],
      "metadata": {
        "collapsed": false,
        "id": "l8e1PgHvW5V_"
      }
    },
    {
      "cell_type": "markdown",
      "source": [
        "`random_pairs` generates a random subset of all possible distinct pairs from a set of objects,\n",
        "where each pair has a fixed probability, `p` of appearing in the subset.\n",
        "Notice how the algorithm starts with `all_pairs`, and applies a **filter** operation to randomly filter some pairs out with probability $p$.\n",
        "Again, if you have any trouble reading the generator expression here, please re-write it as a loop so you are 100% clear how it works."
      ],
      "metadata": {
        "collapsed": false,
        "pycharm": {
          "name": "#%% md\n"
        },
        "id": "FYLdBV-cW5V_"
      }
    },
    {
      "cell_type": "code",
      "execution_count": 20,
      "outputs": [
        {
          "output_type": "execute_result",
          "data": {
            "text/plain": [
              "[('w', 'x'), ('y', 'z'), ('w', 'y')]"
            ]
          },
          "metadata": {},
          "execution_count": 20
        }
      ],
      "source": [
        "def random_pairs(objects, p):\n",
        "    \"\"\" Return a generator of random subset of distinct object pairs (2-tuples), each with a probability of `p` \"\"\"\n",
        "    return (pair for pair in all_pairs(objects) if coin_toss(p))  # \"flip a coin\" to determine whether a given pair is included.\n",
        "\n",
        "# Run this cell several times to see different random subsets.  Change value of `p` to alter likely size of the result.\n",
        "list( random_pairs(('w', 'x', 'y', 'z'), p=0.5) )"
      ],
      "metadata": {
        "pycharm": {
          "name": "#%%\n"
        },
        "colab": {
          "base_uri": "https://localhost:8080/"
        },
        "id": "sLPeelHyW5V_",
        "outputId": "4a29006f-4c94-4812-f5df-5dbc6f00457b"
      }
    },
    {
      "cell_type": "markdown",
      "source": [
        "`make_random_graph` makes an ER Graph where the probability of an edge between each pair of nodes is `p`.\n",
        "\n",
        "Again, you can run the 2nd code block below a few times to generate different random graphs."
      ],
      "metadata": {
        "collapsed": false,
        "pycharm": {
          "name": "#%% md\n"
        },
        "id": "fAvDLESLW5V_"
      }
    },
    {
      "cell_type": "code",
      "execution_count": 21,
      "outputs": [],
      "source": [
        "def make_random_graph(n, p):\n",
        "    \"\"\" Return an ER Graph with n nodes, where the probability of an edge between a pair of nodes in p \"\"\"\n",
        "    graph = nx.Graph()\n",
        "    labels = range(n)\n",
        "    graph.add_nodes_from(labels)\n",
        "    graph.add_edges_from(random_pairs(labels, p))\n",
        "    return graph"
      ],
      "metadata": {
        "pycharm": {
          "name": "#%%\n"
        },
        "id": "y4V3bc_VW5V_"
      }
    },
    {
      "cell_type": "code",
      "execution_count": 22,
      "outputs": [
        {
          "output_type": "stream",
          "name": "stdout",
          "text": [
            "Random Graph has 10 nodes and 12 edges\n"
          ]
        },
        {
          "output_type": "display_data",
          "data": {
            "text/plain": [
              "<Figure size 432x288 with 1 Axes>"
            ],
            "image/png": "[encoded data removed]"
          },
          "metadata": {}
        }
      ],
      "source": [
        "random_graph = make_random_graph(10, 0.3)\n",
        "print(f'Random Graph has {random_graph.number_of_nodes()} nodes and {random_graph.number_of_edges()} edges')\n",
        "\n",
        "nx.draw_circular(random_graph,\n",
        "                 node_color='#ff99dd',\n",
        "                 node_size=1000,\n",
        "                 with_labels=True)\n",
        "plt.show()"
      ],
      "metadata": {
        "pycharm": {
          "name": "#%%\n"
        },
        "colab": {
          "base_uri": "https://localhost:8080/",
          "height": 336
        },
        "id": "vWymer-nW5V_",
        "outputId": "cad9f211-0636-4bd6-d49a-0743d1e91ae4"
      }
    },
    {
      "cell_type": "markdown",
      "source": [
        "## Connectivity\n",
        "\n",
        "To check whether a graph is \"connected\", we'll start by finding all nodes that can be reached, starting at a given node.\n",
        "This algorithm uses a set to keep track of nodes we've already `seen` and a `stack` (list) to keep track of nodes we could reach from here.\n",
        "Trace this algorithm for a node from the graph above, tracking the `seen` and `stack` collections so you really understand how it works."
      ],
      "metadata": {
        "collapsed": false,
        "id": "TU98P_YOW5WA"
      }
    },
    {
      "cell_type": "code",
      "execution_count": 23,
      "outputs": [],
      "source": [
        "def reachable_nodes(graph, start):\n",
        "    \"\"\" return the set of nodes that are reachable from the given start node\"\"\"\n",
        "    seen = set()\n",
        "    stack = [start]\n",
        "    while stack:\n",
        "        node = stack.pop()\n",
        "        if node not in seen:\n",
        "            seen.add(node)\n",
        "            stack.extend(graph.neighbors(node))\n",
        "    return seen"
      ],
      "metadata": {
        "pycharm": {
          "name": "#%%\n"
        },
        "id": "pVOKN-gkW5WA"
      }
    },
    {
      "cell_type": "markdown",
      "source": [
        "In the complete graph, we can reach all nodes from any starting node, but that's not neccessarily true for a random graph..."
      ],
      "metadata": {
        "collapsed": false,
        "pycharm": {
          "name": "#%% md\n"
        },
        "id": "Q5kJDrZZW5WA"
      }
    },
    {
      "cell_type": "code",
      "execution_count": 24,
      "outputs": [
        {
          "output_type": "execute_result",
          "data": {
            "text/plain": [
              "{0, 1, 2, 3, 4, 5, 6, 7, 8, 9}"
            ]
          },
          "metadata": {},
          "execution_count": 24
        }
      ],
      "source": [
        "reachable_nodes(complete, 0)"
      ],
      "metadata": {
        "pycharm": {
          "name": "#%%\n"
        },
        "colab": {
          "base_uri": "https://localhost:8080/"
        },
        "id": "tojlGisnW5WA",
        "outputId": "e804a55f-d54f-4a4d-d94a-86c3a0099ffb"
      }
    },
    {
      "cell_type": "code",
      "execution_count": 25,
      "outputs": [
        {
          "output_type": "execute_result",
          "data": {
            "text/plain": [
              "{0, 1, 2, 3, 4, 5, 7, 8, 9}"
            ]
          },
          "metadata": {},
          "execution_count": 25
        }
      ],
      "source": [
        "reachable_nodes(random_graph, 0)"
      ],
      "metadata": {
        "pycharm": {
          "name": "#%%\n"
        },
        "colab": {
          "base_uri": "https://localhost:8080/"
        },
        "id": "4mHWD35NW5WA",
        "outputId": "6dfccf38-5acc-48b4-b7e9-d194df43b936"
      }
    },
    {
      "cell_type": "markdown",
      "source": [
        "Now it's straight-forward to determine if the graph **is connected** or not.\n",
        "Of course, a complete graphs is always connected, but a random graph may not be."
      ],
      "metadata": {
        "collapsed": false,
        "pycharm": {
          "name": "#%% md\n"
        },
        "id": "1zUV1whNW5WA"
      }
    },
    {
      "cell_type": "code",
      "execution_count": 26,
      "outputs": [],
      "source": [
        "def is_connected(graph):\n",
        "    \"\"\" Return True if the graph is connected, false otherwise. \"\"\"\n",
        "    start = next(iter(graph))   # grab the first node in the graph.  This statement will need some further explanation.\n",
        "    reachable = reachable_nodes(graph, start)\n",
        "    return len(reachable) == len(graph)"
      ],
      "metadata": {
        "pycharm": {
          "name": "#%%\n"
        },
        "id": "aZWiFfEIW5WB"
      }
    },
    {
      "cell_type": "code",
      "execution_count": 27,
      "outputs": [
        {
          "output_type": "execute_result",
          "data": {
            "text/plain": [
              "True"
            ]
          },
          "metadata": {},
          "execution_count": 27
        }
      ],
      "source": [
        "is_connected(complete)"
      ],
      "metadata": {
        "pycharm": {
          "name": "#%%\n"
        },
        "colab": {
          "base_uri": "https://localhost:8080/"
        },
        "id": "GGNpVkdYW5WB",
        "outputId": "ddbb91e1-5e23-46bb-f740-75b04d82e771"
      }
    },
    {
      "cell_type": "code",
      "execution_count": 28,
      "outputs": [
        {
          "output_type": "execute_result",
          "data": {
            "text/plain": [
              "False"
            ]
          },
          "metadata": {},
          "execution_count": 28
        }
      ],
      "source": [
        "is_connected(random_graph)"
      ],
      "metadata": {
        "pycharm": {
          "name": "#%%\n"
        },
        "colab": {
          "base_uri": "https://localhost:8080/"
        },
        "id": "fcbn6C0pW5WB",
        "outputId": "87decf63-2319-4774-a516-e4dca4c9b23a"
      }
    },
    {
      "cell_type": "markdown",
      "source": [
        "### Exercise 5\n",
        "Use `timeit` to run an experiment that times the `reachable_nodes` algorithm.\n",
        "Once you understand how `timeit` works, design a small experiment to time the `reachable_nodes` algorithm for a range of graph sizes (`n`)\n",
        "*Optional*: plot the results of your experiment on a graph."
      ],
      "metadata": {
        "collapsed": false,
        "pycharm": {
          "name": "#%% md\n"
        },
        "id": "xyt31oNhW5WB"
      }
    },
    {
      "cell_type": "code",
      "execution_count": 29,
      "outputs": [
        {
          "output_type": "execute_result",
          "data": {
            "text/plain": [
              "'Time to execute: 0.00015452699999940478 seconds'"
            ],
            "application/vnd.google.colaboratory.intrinsic+json": {
              "type": "string"
            }
          },
          "metadata": {},
          "execution_count": 29
        }
      ],
      "source": [
        "# Solution for Ex. 5 goes below... here's an example of how to use timeit:\n",
        "def reachable_nodes(graph, start):\n",
        "    \"\"\" return the set of nodes that are reachable from the given start node\"\"\"\n",
        "    seen = set()\n",
        "    stack = [start]\n",
        "    while stack:\n",
        "        node = stack.pop()\n",
        "        if node not in seen:\n",
        "            seen.add(node)\n",
        "            stack.extend(graph.neighbors(node))\n",
        "    return seen\n",
        "\n",
        "size = [1,2,3,4,5,6,7,8,9]\n",
        "\n",
        "for n in size:\n",
        "    seconds = timeit(lambda: reachable_nodes(make_complete_graph(n), 0),  number=1)\n",
        "f'Time to execute: {seconds} seconds'"
      ],
      "metadata": {
        "pycharm": {
          "name": "#%%\n"
        },
        "colab": {
          "base_uri": "https://localhost:8080/",
          "height": 35
        },
        "id": "28oFc2nBW5WB",
        "outputId": "d95cd802-7fb2-488b-cf00-e341b4b9d9c0"
      }
    },
    {
      "cell_type": "markdown",
      "source": [
        "## Likelihood of connectivity\n",
        "\n",
        "We are finally ready to replicate Erdős and Rényi's computational experiment.\n",
        "In this experiment, we estimate the likelihood that a randomly-generated ER graph is connected.\n",
        "\n",
        "This function takes `n` and `p`, generates `iters` graphs, and returns the proportion of them that are connected.\n",
        "Be sure you understand how this algorithm works.  Again, re-write it using loops if needed to understand what it does and how it works."
      ],
      "metadata": {
        "collapsed": false,
        "pycharm": {
          "name": "#%% md\n"
        },
        "id": "hCqIrvEZW5WB"
      }
    },
    {
      "cell_type": "code",
      "execution_count": 30,
      "outputs": [
        {
          "output_type": "execute_result",
          "data": {
            "text/plain": [
              "'Likelihood that an ER graph (n=30, p=0.1) is connected: 28.000000000000004%'"
            ],
            "application/vnd.google.colaboratory.intrinsic+json": {
              "type": "string"
            }
          },
          "metadata": {},
          "execution_count": 30
        }
      ],
      "source": [
        "def proportion_connected(n, p, iters=100):\n",
        "    \"\"\" Return the proportion of iters random ER Graphs (n, p) that are connected. \"\"\"\n",
        "    graphs = (make_random_graph(n, p) for i in range(iters))\n",
        "    return statistics.mean( (1 if is_connected(graph) else 0 for graph in graphs) )\n",
        "\n",
        "n = 30\n",
        "p = 0.1\n",
        "f'Likelihood that an ER graph (n={n}, p={p}) is connected: {proportion_connected(n, p)*100}%'"
      ],
      "metadata": {
        "pycharm": {
          "name": "#%%\n"
        },
        "colab": {
          "base_uri": "https://localhost:8080/",
          "height": 35
        },
        "id": "4xHDY-TuW5WC",
        "outputId": "48e4daf9-98ae-4806-f00c-84628a637dc8"
      }
    },
    {
      "cell_type": "markdown",
      "source": [
        "## Critical Value of $p$\n",
        "\n",
        "Near a \"critical value\" of $p$, the likelihood of a random graph being connected rapidly changes from near 0 to near 1.\n",
        "Erdős and Rényi predict the critical value should be:  $ln(n) / n$\n",
        "For example..."
      ],
      "metadata": {
        "collapsed": false,
        "pycharm": {
          "name": "#%% md\n"
        },
        "id": "DYtZiIHmW5WC"
      }
    },
    {
      "cell_type": "code",
      "execution_count": 31,
      "outputs": [
        {
          "output_type": "execute_result",
          "data": {
            "text/plain": [
              "'Erdős and Rényi predict the crictical value of p for graphs of size 30 = 0.113'"
            ],
            "application/vnd.google.colaboratory.intrinsic+json": {
              "type": "string"
            }
          },
          "metadata": {},
          "execution_count": 31
        }
      ],
      "source": [
        "n = 30\n",
        "f'Erdős and Rényi predict the crictical value of p for graphs of size {n} = {math.log(n) / n:0.3f}'"
      ],
      "metadata": {
        "pycharm": {
          "name": "#%%\n"
        },
        "colab": {
          "base_uri": "https://localhost:8080/",
          "height": 35
        },
        "id": "KCMozAYjW5WC",
        "outputId": "e65257b1-3f58-49dc-9c9a-fafce074d974"
      }
    },
    {
      "cell_type": "markdown",
      "source": [
        "### Exercise 6\n",
        "Experiment with `proportion_connected` at different values of $p$, to confirm (or refute) Erdős and Rényi's results.\n",
        "Ideally, write a small piece of code to run the experiment over a range of $p$.\n",
        "The goal of this experiment is to identify the \"critical value\" of $p$ for graphs of size $n$."
      ],
      "metadata": {
        "collapsed": false,
        "pycharm": {
          "name": "#%% md\n"
        },
        "id": "ZRZtCP24W5WC"
      }
    },
    {
      "cell_type": "code",
      "execution_count": 32,
      "outputs": [
        {
          "output_type": "execute_result",
          "data": {
            "text/plain": [
              "'Erdős and Rényi predict the crictical value of p for graphs of size 30 = 0.113'"
            ],
            "application/vnd.google.colaboratory.intrinsic+json": {
              "type": "string"
            }
          },
          "metadata": {},
          "execution_count": 32
        }
      ],
      "source": [
        "# Solution for Ex. 6 goes here...\n",
        "def proportion_connected(n, p, iters=100):\n",
        "    \"\"\" Return the proportion of iters random ER Graphs (n, p) that are connected. \"\"\"\n",
        "    graphs = (make_random_graph(n, p) for i in range(iters))\n",
        "    return statistics.mean( (1 if is_connected(graph) else 0 for graph in graphs) )\n",
        "\n",
        "n = 30\n",
        "p = 0.1\n",
        "f'Likelihood that an ER graph (n={n}, p={p}) is connected: {proportion_connected(n, p)*100}%'\n",
        "\n",
        "n = 30\n",
        "f'Erdős and Rényi predict the crictical value of p for graphs of size {n} = {math.log(n) / n:0.3f}'\n"
      ],
      "metadata": {
        "pycharm": {
          "name": "#%%\n"
        },
        "id": "0937ha-QW5WC",
        "colab": {
          "base_uri": "https://localhost:8080/",
          "height": 35
        },
        "outputId": "b0871b6f-f805-4944-a998-0da9af39f796"
      }
    }
  ],
  "metadata": {
    "kernelspec": {
      "display_name": "Python 3",
      "language": "python",
      "name": "python3"
    },
    "language_info": {
      "codemirror_mode": {
        "name": "ipython",
        "version": 2
      },
      "file_extension": ".py",
      "mimetype": "text/x-python",
      "name": "python",
      "nbconvert_exporter": "python",
      "pygments_lexer": "ipython2",
      "version": "2.7.6"
    },
    "colab": {
      "provenance": []
    }
  },
  "nbformat": 4,
  "nbformat_minor": 0
}