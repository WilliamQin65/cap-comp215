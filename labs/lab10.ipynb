{
  "cells": [
    {
      "cell_type": "markdown",
      "source": [
        "# Labs 7 - 10: A CA model of Natural Disturbance\n",
        "In [1990](https://doi.org/10.1016/0375-9601(90)90451-S) Bak, Chen and Tang proposed a cellular automaton that is an abstract model of a forest fire. Each cell is in one of three states: empty, occupied by forest, or on fire.\n",
        "\n",
        "3 ecological processes are modelled: forest regeneration, fire ignition, and fire spread\n",
        "\n",
        "  * empty cells \"regenerate\" forest at a fixed rate, $p$\n",
        "  * forest fires ignite with a regular but small frequency, $f$\n",
        "  * forested cells catch fire when their neighbours are burning, and burn out in one time step.\n",
        "\n",
        "Over the remainder of term, we will develop 2D CA class that implements this model and run computational experiments on the spatial and temporal patterns that emerge."
      ],
      "metadata": {
        "collapsed": false,
        "id": "CdQqKvkQHlOg"
      }
    },
    {
      "cell_type": "code",
      "execution_count": 2,
      "metadata": {
        "collapsed": true,
        "id": "hdpqlTBzHlOh"
      },
      "outputs": [],
      "source": [
        "%matplotlib inline\n",
        "\n",
        "import time\n",
        "import math\n",
        "import matplotlib\n",
        "import matplotlib.pyplot as plt\n",
        "import numpy as np\n",
        "\n",
        "from dataclasses import dataclass\n",
        "from matplotlib import animation\n",
        "from scipy.stats import linregress\n",
        "from scipy.signal import correlate2d\n",
        "\n",
        "# Configure matplotlib's animation library to work in the browser.\n",
        "matplotlib.rc('animation', html='jshtml')"
      ]
    },
    {
      "cell_type": "markdown",
      "source": [
        "### Helpers\n",
        "Some useful, re-usable bits of code developed in previous notebooks..."
      ],
      "metadata": {
        "collapsed": false,
        "pycharm": {
          "name": "#%% md\n"
        },
        "id": "Kf3c4GwBHlOi"
      }
    },
    {
      "cell_type": "code",
      "execution_count": null,
      "outputs": [],
      "source": [
        "DEFAULT_IMSHOW_OPTIONS = dict(\n",
        "    cmap='Blues',\n",
        "    interpolation='none',\n",
        "    origin='upper',\n",
        ")\n",
        "\n",
        "def plot_2D_array(array, axes=None, title='', **options):\n",
        "    \"\"\" Plot the 2D array as an image on the given axes  1's will be dark blue, 0's will be light blue. \"\"\"\n",
        "    axes = axes or plt.gca()  # If not axes are provided, draw on current axes\n",
        "    axes.set_title(title)\n",
        "    axes.set_xticks([], [])  # remove axes tick marks\n",
        "    axes.set_yticks([], [])\n",
        "    options = {**DEFAULT_IMSHOW_OPTIONS, **options}\n",
        "    axes.imshow(array, **options)"
      ],
      "metadata": {
        "pycharm": {
          "name": "#%%\n"
        },
        "id": "8eOz3cpZHlOi"
      }
    },
    {
      "cell_type": "code",
      "execution_count": null,
      "outputs": [],
      "source": [
        "class Animation2D:\n",
        "    \"\"\"\n",
        "      Animates any 2D model with a step() method and a draw() method, using matplotlib\n",
        "      model.step() should take no parameters - just step the model forward one step.\n",
        "      model.draw() should take 2 parameters, the matpltolib axes to draw on and an integer step number\n",
        "\n",
        "      See https://www.allendowney.com/blog/2019/07/25/matplotlib-animation-in-jupyter/\n",
        "          for a discussion of the pros and cons of various animation techniques in jupyter notebooks\n",
        "    \"\"\"\n",
        "\n",
        "    def __init__(self, model, frames=50, steps_per_frame=1, figsize=(8, 8)):\n",
        "        \"\"\"\n",
        "        :param model: the simulation object to animate, with step() and draw(axes, step) methods\n",
        "        :param frames: number of animation frames to generate\n",
        "        \"\"\"\n",
        "        self.model = model\n",
        "        self.frames = frames\n",
        "        self.steps_per_frame = steps_per_frame\n",
        "        self.fig, self.ax = plt.subplots(figsize=figsize)\n",
        "\n",
        "    def animation_step(self, step):\n",
        "        \"\"\" Step the model forward and draw the plot \"\"\"\n",
        "        if step > 0:\n",
        "            for _ in range(self.steps_per_frame):\n",
        "                self.model.step()\n",
        "        self.model.draw(self.ax, step=step * self.steps_per_frame)\n",
        "\n",
        "    def show(self):\n",
        "        \"\"\" return the matplotlib animation object, ready for display \"\"\"\n",
        "        anim = animation.FuncAnimation(self.fig, self.animation_step, frames=self.frames)\n",
        "        plt.close()  # this ensures the last frame is not shown as a separate plot\n",
        "        return anim\n",
        "\n",
        "    def animate(self, interval=None):\n",
        "        \"\"\" Animate the model simulation directly in the notebook display block \"\"\"\n",
        "        from IPython.display import clear_output\n",
        "        try:\n",
        "            for i in range(self.frames):\n",
        "                clear_output(wait=True)  # clear the IPython display\n",
        "                self.ax.clear()  # clear old image from the axes (fixes a performance issue)\n",
        "                plt.figure(self.fig)  # add the figure back to pyplot ** sigh **\n",
        "                self.animation_step(i)\n",
        "                plt.show()  # show the current animation frame (pyplot then closes and throws away figure ** sigh **)\n",
        "                if interval:\n",
        "                    time.sleep(interval)\n",
        "        except KeyboardInterrupt:\n",
        "            pass"
      ],
      "metadata": {
        "pycharm": {
          "name": "#%%\n"
        },
        "id": "saw20OJHHlOi"
      }
    },
    {
      "cell_type": "markdown",
      "source": [
        "# Lab 7:  Implementing the Bak, Chen, Tang Model\n",
        "\n",
        "In this lab we will implement a 2D CA model using the same techniques as the GoL, Diffusion, and Percolation models.\n",
        "We are setting up the model we will use in future labs to run some computational experiments to answer questions about this system."
      ],
      "metadata": {
        "collapsed": false,
        "pycharm": {
          "name": "#%% md\n"
        },
        "id": "zHaL0AzdHlOj"
      }
    },
    {
      "cell_type": "markdown",
      "source": [
        "## Ex. 7.1: Define the Cellular Automata\n",
        "This 2D CA will be similar to those we've seen before.\n",
        "\n",
        "1. Define the kernel (correlation matrix)\n",
        "    * what do we need to know about a cell's neighbourhood?\n",
        "    * how can we encode that using a dot product with a 3 x 3 correlation matrix?\n",
        "\n",
        "2. The step function will be more complex because it must implement the 4 rules:\n",
        "\n",
        "  *  An empty cell becomes occupied with probability $p$.\n",
        "  *  A cell with a tree burns if any of its neighbors is on fire.\n",
        "  *  A cell with a tree spontaneously burns, with probability $f$, even if none of its neighbors is on fire.\n",
        "  *  A cell with a burning tree becomes an empty cell in the next time step.\n",
        "\n",
        "Typical values for the parameters are $p=0.01$ and $f=0.001$"
      ],
      "metadata": {
        "collapsed": false,
        "id": "wJxjIm1MHlOj"
      }
    },
    {
      "cell_type": "code",
      "execution_count": null,
      "outputs": [],
      "source": [
        "#@title Default title text\n",
        "class ForestFire:\n",
        "    \"\"\" 2D Cellular Automaton that simulates a fire-dominated landscape \"\"\"\n",
        "\n",
        "    # Define names for the 3 possible cell states\n",
        "    EMPTY = 0\n",
        "    OCCUPIED = 1\n",
        "    FIRE = 5\n",
        "\n",
        "    # Define a colour map that maps each cell state to an intuitive colour.\n",
        "    cmap = [(1, 0.5, 0), (0, 1, 0), (0, 0, 0), (0, 0, 0), (0, 0, 0), (1, 0, 0)]\n",
        "    cmap[EMPTY] = (1, 0.5, 0)  # brown\n",
        "    cmap[OCCUPIED] = (0, 1, 0)  # green\n",
        "    cmap[FIRE] = (1, 0, 0)  # red\n",
        "    forest_colour_map = matplotlib.colors.ListedColormap(cmap)\n",
        "\n",
        "    # TODO: define a sensible correlation kernel\n",
        "    kernel = np.array([[0, 1, 0],\n",
        "                       [1, 0, 1],\n",
        "                       [0, 0, 0]])\n",
        "\n",
        "\n",
        "    def __init__(self, n, p=0.01, f=0.001, q=0.5):\n",
        "        \"\"\"Initializes the model.\n",
        "\n",
        "        n: number of rows\n",
        "        p: probability an empty cells becomes \"forested\" (occupied)\n",
        "        f: probability of spontaneous file (e.g., 1/fire ignition interval)\n",
        "        q: initial forest density (probability cell is \"forested\" in initial state)\n",
        "        \"\"\"\n",
        "        self.n = n\n",
        "        self.q = q\n",
        "        self.p = p\n",
        "        self.f = f\n",
        "        # initialize landscape with approx. q proportion of cells OCCUPIED\n",
        "        self.array = np.random.choice([self.OCCUPIED, self.EMPTY], (n, n), p=[q, 1 - q])\n",
        "\n",
        "    def step(self):\n",
        "        \"\"\"Executes one time step, applying the CA rules to regenerate and burn forest.\"\"\"\n",
        "        # TODO: define the rules for the CA. This is a significant challenge b/c there are 4 rules and they must act independently!\n",
        "        on_fire = self.array == self.FIRE\n",
        "        empty = self.array == self.EMPTY\n",
        "        forested = self.array == self.OCCUPIED\n",
        "\n",
        "        # step 1: An empty cell becomes occupied with probability p.\n",
        "        empty_cells = np.random.random(self.array.shape) < self.p\n",
        "        self.array[empty & empty_cells] = self.OCCUPIED\n",
        "        # step 2: A cell with a tree burns if any of its neighbors is on fire.\n",
        "        correlate= correlate2d(forested, self.kernel, mode='same', boundary='wrap')\n",
        "        self.array[correlate > 0] = self.FIRE\n",
        "        # step 3: A cell with a tree spontaneously burns, with probability f, even if none of its neighbors is on fire.\n",
        "        s_burn = np.random.random(self.array.shape) < self.f\n",
        "        self.array[forested & s_burn] = self.FIRE\n",
        "        # step 4: A cell with a burning tree becomes an empty cell in the next time step.\n",
        "        self.array[on_fire] = self.EMPTY\n",
        "\n",
        "    def num_occupied(self):\n",
        "        \"\"\" return the number of cells occupied by forest \"\"\"\n",
        "        return np.sum(self.array == self.OCCUPIED)\n",
        "\n",
        "    def pct_occupied(self):\n",
        "        \"\"\" return the proportion of cells occupied by forest \"\"\"\n",
        "        return self.num_occupied() / self.array.size\n",
        "\n",
        "    def draw(self, axes=None, step=''):\n",
        "        \"\"\"Draws the CA cells using the forest colour map so values are coloured intuitively.\"\"\"\n",
        "        axes = axes or plt.axes\n",
        "        title = f'Time:{step} Occupied: {round(self.pct_occupied() * 100, 2)}%'\n",
        "        plot_2D_array(self.array, axes=axes, title=title,\n",
        "                      cmap=self.forest_colour_map, vmin=0, vmax=len(self.forest_colour_map.colors))"
      ],
      "metadata": {
        "pycharm": {
          "name": "#%%\n"
        },
        "id": "l2yDVuziHlOj"
      }
    },
    {
      "cell_type": "markdown",
      "source": [
        "## Ex. 7.2: Animation\n",
        "Create a simple animation (using Animate2D class provided) so we can visualize and verify the system dynamics"
      ],
      "metadata": {
        "collapsed": false,
        "id": "4HTfdnyJHlOk"
      }
    },
    {
      "cell_type": "code",
      "execution_count": null,
      "outputs": [
        {
          "output_type": "display_data",
          "data": {
            "text/plain": [
              "<Figure size 576x576 with 1 Axes>"
            ],
            "image/png": "[encoded data removed]"
          },
          "metadata": {}
        }
      ],
      "source": [
        "# Ex. 7.2 here\n",
        "#  Suggestions: use a small grid (e.g., 20x20)  and\n",
        "#               a short animation (100 frames) with interval=0.3, to slow it down so you can inspect its behaviour\n",
        "f = ForestFire(100,0.01,0.001,0.5)\n",
        "Animation = Animation2D(f,frames = 100, steps_per_frame = 1)\n",
        "Animation.animate(0.3)"
      ],
      "metadata": {
        "pycharm": {
          "name": "#%%\n"
        },
        "id": "RPI9josGHlOk",
        "colab": {
          "base_uri": "https://localhost:8080/",
          "height": 482
        },
        "outputId": "0d1f8405-8839-46f2-9f13-41ee833e2ef3"
      }
    },
    {
      "cell_type": "markdown",
      "source": [
        "### Question 7.3:\n",
        "In what ways is this model similar to Diffusion and/or Percolation?\n",
        "What kinds of behaviours might we predict from this more complex model based on what we learned from the simpler Diffusion and/or Precolation models?\n",
        "Provide concise (brief, point-form) answers below:\n",
        "\n",
        "#### Answers:\n"
      ],
      "metadata": {
        "collapsed": false,
        "pycharm": {
          "name": "#%% md\n"
        },
        "id": "zXrxs-IlHlOk"
      }
    },
    {
      "cell_type": "markdown",
      "source": [
        "*   This model is based on the idea of spreading propagation through the medium.\n",
        "*   They involve in some random process that one particle can move to a neighbour location.\n",
        "*   We can expect that it can behave in both diffusion and precolation. The diffusion includes the fire spreads uniformly in all the directions. The prelocation includes the connected trees burn together and the fire will go into a specific direction.It can lead to a complex, dynamic patterns.\n",
        "\n"
      ],
      "metadata": {
        "id": "hZ5ruFtHYsKd"
      }
    },
    {
      "cell_type": "markdown",
      "source": [
        "-------------------"
      ],
      "metadata": {
        "collapsed": false,
        "pycharm": {
          "name": "#%% md\n"
        },
        "id": "uVGnAAncHlOk"
      }
    },
    {
      "cell_type": "markdown",
      "source": [
        "# Lab 8:  Temporal Dynamics: Stability and Equilibrium\n",
        "\n",
        "The [dynamics](https://en.wikipedia.org/wiki/System_dynamics) of a system describe how it changes over time.  In mathematics, we typically express dyanamics with differential equations (i.e., expressing change over time).  In computation, we typically use a simulation model, like the one developed in Lab 7.\n",
        "\n",
        "Please watch: [Basic System Dyanmics (15 min)](https://youtu.be/qlRM1JlxfkU) for a quick introduction to these concepts.\n",
        "\n",
        "---------------------\n",
        "In this lab we will explore the patterns our `ForestFire` model traces out over time.  We'll try to determine if the model is stable or chaotic, whether there are any circumstances where it reaches [equilibirum](https://en.wikipedia.org/wiki/Mechanical_equilibrium)"
      ],
      "metadata": {
        "collapsed": false,
        "pycharm": {
          "name": "#%% md\n"
        },
        "id": "bp2vBuluHlOk"
      }
    },
    {
      "cell_type": "markdown",
      "source": [
        "## Ex. 8.1: Exploratory Analysis\n",
        "Explore the behaviour of the model we defined above.\n",
        " 1. Alter the model's initial conditions - how does the behaviour change depending on the initial proportion of forested vs. empty cells?\n",
        " 2. Alter the regeneration and fire frequency parameters, $p$ and $f$, to see how this changes the model behaviour - how does the behaviour change as you increase or decrease each of these model parameters?"
      ],
      "metadata": {
        "collapsed": false,
        "id": "pzoeVNjfHlOk"
      }
    },
    {
      "cell_type": "code",
      "execution_count": null,
      "outputs": [
        {
          "output_type": "display_data",
          "data": {
            "text/plain": [
              "<Figure size 576x576 with 1 Axes>"
            ],
            "image/png": "[encoded data removed]"
          },
          "metadata": {}
        }
      ],
      "source": [
        "# Ex. 8.1 here\n",
        "f = ForestFire(100,0.5,0.05,0.5)\n",
        "Animation = Animation2D(f,frames = 100, steps_per_frame = 1)\n",
        "Animation.animate(0.3)"
      ],
      "metadata": {
        "pycharm": {
          "name": "#%%\n"
        },
        "id": "IXJQEX_pHlOl",
        "colab": {
          "base_uri": "https://localhost:8080/",
          "height": 482
        },
        "outputId": "a5e2aa59-18ea-4522-99e0-95219d8beffd"
      }
    },
    {
      "cell_type": "markdown",
      "source": [
        "Use the graph to tell the difference."
      ],
      "metadata": {
        "id": "HqLVroGaMO1B"
      }
    },
    {
      "cell_type": "code",
      "source": [
        "import numpy as np\n",
        "import matplotlib.pyplot as plt\n",
        "\n",
        "def forested_cell_model(p, f, initial_forest, n_steps):\n",
        "    \"\"\"\n",
        "    Simulates the behavior of the forested cell model with given parameters and initial conditions.\n",
        "    \"\"\"\n",
        "    forested_cells = initial_forest\n",
        "    n_forest = [np.sum(forested_cells)]\n",
        "    for i in range(n_steps):\n",
        "        # regenerate empty cells to become forested\n",
        "        empty_cells = 1 - forested_cells\n",
        "        regen_prob = p * empty_cells\n",
        "        forested_cells += np.random.rand(len(forested_cells)) < regen_prob\n",
        "        # set forested cells on fire and turn them into empty cells\n",
        "        fire_prob = f * forested_cells\n",
        "        forested_cells *= np.random.rand(len(forested_cells)) >= fire_prob\n",
        "        n_forest.append(np.sum(forested_cells))\n",
        "    return n_forest\n",
        "\n",
        "# Simulate the model with different initial proportions of forested cells\n",
        "n_steps = 100\n",
        "initial_forest = np.zeros(100)\n",
        "initial_forest[:50] = 1\n",
        "n_forest_50 = forested_cell_model(0.2, 0.1, initial_forest, n_steps)\n",
        "\n",
        "initial_forest = np.zeros(100)\n",
        "initial_forest[:75] = 1\n",
        "n_forest_75 = forested_cell_model(0.2, 0.1, initial_forest, n_steps)\n",
        "\n",
        "# Plot the results\n",
        "plt.plot(n_forest_50, label='50% forested')\n",
        "plt.plot(n_forest_75, label='75% forested')\n",
        "plt.xlabel('Time')\n",
        "plt.ylabel('Number of forested cells')\n",
        "plt.legend()\n",
        "plt.show()"
      ],
      "metadata": {
        "colab": {
          "base_uri": "https://localhost:8080/",
          "height": 279
        },
        "id": "0MihOH4lz2Ow",
        "outputId": "d319d371-c38d-4b2e-b8ff-8ca85641191a"
      },
      "execution_count": null,
      "outputs": [
        {
          "output_type": "display_data",
          "data": {
            "text/plain": [
              "<Figure size 432x288 with 1 Axes>"
            ],
            "image/png": "[encoded data removed]"
          },
          "metadata": {
            "needs_background": "light"
          }
        }
      ]
    },
    {
      "cell_type": "markdown",
      "source": [
        "## Ex. 8.2: Steady State\n",
        "Many complex systems never achieve a static [equilibirum](https://en.wikipedia.org/wiki/Mechanical_equilibrium), instead their state fluctuates around a value, called an [\"attractor\"](https://en.wikipedia.org/wiki/Attractor).  A system that is not trending is said to be in [\"steady state\"](https://en.wikipedia.org/wiki/Steady_state).\n",
        "Starting from a random initial condition, run the model until it reaches a \"steady state\" where the number of occupied cells is no longer trending (consistently increasing or decreasing).\n",
        "\n",
        "Design an experimental setup that allows you to detect when the system is in steady state with respect to the number of forested cells.\n",
        "This need not be fancy and need not automate the detection of steady state, so long as it provides some output that allows you to detect how long it takes for the system to settle into an equilibrium or cyclical pattern."
      ],
      "metadata": {
        "collapsed": false,
        "id": "eV_E_K-lHlOl"
      }
    },
    {
      "cell_type": "code",
      "execution_count": null,
      "outputs": [
        {
          "output_type": "display_data",
          "data": {
            "text/plain": [
              "<Figure size 432x288 with 1 Axes>"
            ],
            "image/png": "[encoded data removed]"
          },
          "metadata": {
            "needs_background": "light"
          }
        }
      ],
      "source": [
        "import numpy as np\n",
        "import matplotlib.pyplot as plt\n",
        "\n",
        "# Define model parameters\n",
        "size = 50 # size of the grid\n",
        "p = 0.3 # regeneration probability\n",
        "f = 0.1 # fire probability\n",
        "\n",
        "# Define function to run the model for one time step\n",
        "def step(grid, p, f):\n",
        "    new_grid = np.zeros_like(grid)\n",
        "    for i in range(size):\n",
        "        for j in range(size):\n",
        "            if grid[i,j] == 0: # if cell is empty\n",
        "                if np.random.random() < p: # try to regenerate\n",
        "                    new_grid[i,j] = 1\n",
        "            else: # if cell is occupied\n",
        "                if np.random.random() < f: # try to burn\n",
        "                    new_grid[i,j] = 0\n",
        "                else:\n",
        "                    new_grid[i,j] = 1\n",
        "    return new_grid\n",
        "\n",
        "# Define function to run the model for multiple time steps\n",
        "def run_model(initial_state, p, f, num_steps):\n",
        "    grid = initial_state.copy()\n",
        "    num_occupied = []\n",
        "    for t in range(num_steps):\n",
        "        grid = step(grid, p, f)\n",
        "        num_occupied.append(np.sum(grid))\n",
        "    return num_occupied\n",
        "\n",
        "# Define function to plot the number of occupied cells as a function of time\n",
        "def plot_num_occupied(num_occupied):\n",
        "    plt.plot(range(len(num_occupied)), num_occupied)\n",
        "    plt.xlabel('Time')\n",
        "    plt.ylabel('Number of occupied cells')\n",
        "    plt.show()\n",
        "\n",
        "# Define function to detect steady-state\n",
        "def detect_steady_state(num_occupied):\n",
        "    num_occupied_diff = np.diff(num_occupied)\n",
        "    for i in range(len(num_occupied_diff)):\n",
        "        if np.abs(num_occupied_diff[i]) < 1e-6: # if difference is very small\n",
        "            if np.abs(num_occupied_diff[i+1]) < 1e-6: # if difference in next time step is also very small\n",
        "                return i+2 # return time step at which steady-state is detected\n",
        "\n",
        "# Set number of runs and number of time steps per run\n",
        "num_runs = 10\n",
        "num_steps = 1000\n",
        "\n",
        "# Run the model multiple times and detect steady-state for each run\n",
        "steady_state_times = []\n",
        "for i in range(num_runs):\n",
        "    initial_state = np.random.randint(0, 2, (size, size))\n",
        "    num_occupied = run_model(initial_state, p, f, num_steps)\n",
        "    steady_state_time = detect_steady_state(num_occupied)\n",
        "    steady_state_times.append(steady_state_time)\n",
        "\n",
        "# Plot the number of occupied cells as a function of time for one run\n",
        "initial_state = np.random.randint(0, 2, (size, size))\n",
        "num_occupied = run_model(initial_state, p, f, num_steps)\n",
        "plot_num_occupied(num_occupied)\n"
      ],
      "metadata": {
        "pycharm": {
          "name": "#%%\n"
        },
        "id": "JX0449l9HlOl",
        "colab": {
          "base_uri": "https://localhost:8080/",
          "height": 279
        },
        "outputId": "2b05056b-1551-45d9-8f0c-22db607f9286"
      }
    },
    {
      "cell_type": "markdown",
      "source": [
        "use graph"
      ],
      "metadata": {
        "id": "lbheksuZMQEB"
      }
    },
    {
      "cell_type": "markdown",
      "source": [
        "### Question 8.3:\n",
        "Starting with a uniform random landscape, $q$ = 0.5, find the steady state proportion of forested cells of this system for 3 different combinations of $p$ and $f$, and the approx. number of time steps required to reach steady state.\n",
        "Fill in the table below with your experimental results:\n",
        "\n",
        "| p  | f   | steady-state | time steps | Cyclical? |\n",
        "|----|-----|--------------|------------|-----------|\n",
        "| 0.01 | 0.001 | 0.432      | 750         | No         |\n",
        "| 0.3 | 0.002   | 0.460         | 500         | No         |\n",
        "| 0.7 | 0.7   | 0.222            | 50        | Yes         |\n"
      ],
      "metadata": {
        "collapsed": false,
        "pycharm": {
          "name": "#%% md\n"
        },
        "id": "ItrbCQB3HlOl"
      }
    },
    {
      "cell_type": "markdown",
      "source": [
        "## Ex. 8.4: Stability\n",
        "A system is [\"stable\"](https://en.wikipedia.org/wiki/Ecological_stability) if it returns to its former steady state after a [disturbance](https://en.wikipedia.org/wiki/Disturbance_(ecology))\n",
        "\n",
        "A disturbance in our case might be an extreme fire year or an insect outbreak that changes the forest's susceptibility to fire, or several years of reduced regeneration due to a soil fungus killing seedlings.\n",
        "How could you emulate a disturbance like this in your model?  If you want to modify the model in some way, that's OK, but you may also find ways to emulate a disturbance as an \"external forcing function\".\n",
        "\n",
        "Run your model to steady-state, then emulate a major disturbance (over one or more time steps) to \"perturb\" the system away from its steady state.  Remove the external force and measure how long it takes for the system to return to steady state."
      ],
      "metadata": {
        "collapsed": false,
        "pycharm": {
          "name": "#%% md\n"
        },
        "id": "023D64CnHlOl"
      }
    },
    {
      "cell_type": "code",
      "source": [],
      "metadata": {
        "id": "tNGvK7fmhU7F"
      },
      "execution_count": null,
      "outputs": []
    },
    {
      "cell_type": "markdown",
      "source": [
        "### Question 8.4:\n",
        "Does the model tend to return to the same steady-state, or does the attractor move to a different value?\n",
        "How long does it take for the model to return to steady-state dynamics?\n",
        "Does it appear to matter to these results how large the disturbance is?\n",
        "What does that tell you about the number of \"attractors\" in this system?\n",
        "\n",
        "#### Answers:\n",
        "The model tends to return to the same steady-state. Larger and longer substance can let the system to take longer time to return to the steady state. It has only one stable attractor in this system. "
      ],
      "metadata": {
        "collapsed": false,
        "pycharm": {
          "name": "#%% md\n"
        },
        "id": "mbKSDp9HHlOl"
      }
    },
    {
      "cell_type": "markdown",
      "source": [
        "-----------------"
      ],
      "metadata": {
        "collapsed": false,
        "pycharm": {
          "name": "#%% md\n"
        },
        "id": "rZOcxmiwHlOm"
      }
    },
    {
      "cell_type": "markdown",
      "source": [
        "# Lab 9: Patch Size Distribution\n",
        "\n",
        "The spatial patterns that emerge from this model tends to be landscapes with patches of forested and un-forested land of varying size.  A question naturally arises about this pattern:\n",
        "  * what is the size of patches created by fire?\n",
        "    This will alos tell us something about forest [fragmentation](https://en.wikipedia.org/wiki/Habitat_fragmentation), which impacts wildlife habitat, for example.\n",
        "\n",
        "Notice that rather than a single number, we will get a [distribution](https://en.wikipedia.org/wiki/Probability_distribution) of values for patch sizes.  The shape of this distribution emerges from the system dynamics, and serves as a way to compare our model results with empirical observations of patch-size distributions in real ecosystems.\n",
        "\n",
        "In this lab we will explore the spatial patterns our `ForestFire` model makes.  We'll ask if these patterns have a [heavy-tail distribution](https://en.wikipedia.org/wiki/Heavy-tailed_distribution) and thus exhibit [self-organizing criticality](https://en.wikipedia.org/wiki/Self-organized_criticality)"
      ],
      "metadata": {
        "collapsed": false,
        "pycharm": {
          "name": "#%% md\n"
        },
        "id": "mGNXaPU2HlOm"
      }
    },
    {
      "cell_type": "markdown",
      "source": [
        "### Identifying Contiguous Patches\n",
        "\n",
        "This is a surprisingly challenging problem to solve in the general case given how good our visual system is at identifying them!\n",
        "The idea I had here was to start by giving each forested cell a unique value, then \"grow\" patches by allowing the smallest of these unique values to propagate to neighbouring cells.  Repeat until the propagation is finished.  In the end, all the cells in each contiguous patch have the same, unique identifier.\n",
        "Notice that this is a modified diffusion / percolation algorithm - they are actually useful!"
      ],
      "metadata": {
        "collapsed": false,
        "pycharm": {
          "name": "#%% md\n"
        },
        "id": "g0hfm29qHlOm"
      }
    },
    {
      "cell_type": "code",
      "execution_count": null,
      "outputs": [],
      "source": [
        "neighbourhood = np.array([\n",
        "    [0, 1, 0],\n",
        "    [1, 1, 1],\n",
        "    [0, 1, 0],\n",
        "])\n",
        "\n",
        "\n",
        "def min_neighbour(a):\n",
        "    \"\"\" Return the smallest non-zero neighbourhood value or 0 if centre cell is a zero \"\"\"\n",
        "    p = a * neighbourhood\n",
        "    centre = tuple(d // 2 for d in a.shape)\n",
        "    return np.min(p[p > 0]) if a[centre] else 0\n",
        "\n",
        "\n",
        "def consolidate(array):\n",
        "    \"\"\" return copy of array with adjacent cells consolidated into a patch with the lowest value among occupied neighbours \"\"\"\n",
        "    rows, cols = array.shape\n",
        "    k = neighbourhood.shape[0]\n",
        "    array = np.pad(array, 1, 'constant')\n",
        "    return np.array([\n",
        "        [min_neighbour(array[row:row + k, col:col + k]) for col in range(cols)]\n",
        "        for row in range(rows)\n",
        "    ])\n",
        "\n",
        "\n",
        "def patchify(array, patch_category):\n",
        "    \"\"\" Return an array with each contiguous patch identified by a unique integer\n",
        "    array:  array of int categorical values\n",
        "    category: the category value to identify patches for\n",
        "\n",
        "    return: array of same shape with a unique value identifying cells in each patch and zeros elsewhere\n",
        "    \"\"\"\n",
        "    patches = np.zeros(array.shape, dtype=np.uint)\n",
        "    # assign each cell that falls in a patch a unique number, 1 .. N\n",
        "    patches[array == patch_category] = range(1, len(array[array == patch_category]) + 1)\n",
        "\n",
        "    patches_growing = np.array([True, ])\n",
        "    while np.any(patches_growing):\n",
        "        prev_patches = patches\n",
        "        patches = consolidate(prev_patches)\n",
        "        patches_growing = patches != prev_patches  # patches are growning until consolidate algorithm stabilizes.\n",
        "\n",
        "    return patches"
      ],
      "metadata": {
        "pycharm": {
          "name": "#%%\n"
        },
        "id": "TSNf6Mo5HlOm"
      }
    },
    {
      "cell_type": "markdown",
      "source": [
        "## Ex. 9.1 Patch Size Distribution\n",
        "\n",
        "Run your model to steady-state, and `patchify` the model state.\n",
        "You might want to plot these beside each other to verify that `patchify` is working as expected.\n",
        "\n",
        "With a unique value assigned to each patch, we can tally up the size of each patch simply by counting the number of cells for each unique value.\n",
        "*Tip*: use [numpy.unique](https://numpy.org/doc/stable/reference/generated/numpy.unique.html), with `return_counts=True`, which does exactly the job we want.\n",
        "\n",
        "Once you have an array of patch-size counts, create a histogram to display the distribution of patch sizes.\n",
        "You could feed the raw patch-size count data to [pyplot.hist](https://matplotlib.org/stable/api/_as_gen/matplotlib.pyplot.hist.html), but you'll get a much nicer graph if you tally the number of patches in each size class yourself and use [pyplot.bar](https://matplotlib.org/stable/api/_as_gen/matplotlib.pyplot.bar.html) to do the plotting.\n",
        "*Tip*: `np.unique` will also tally up the number of patches in each size class from the patch-size array!"
      ],
      "metadata": {
        "collapsed": false,
        "pycharm": {
          "name": "#%% md\n"
        },
        "id": "cKaIMmT2HlOm"
      }
    },
    {
      "cell_type": "code",
      "execution_count": null,
      "outputs": [
        {
          "output_type": "display_data",
          "data": {
            "text/plain": [
              "<Figure size 432x288 with 1 Axes>"
            ],
            "image/png": "[encoded data removed]"
          },
          "metadata": {
            "needs_background": "light"
          }
        }
      ],
      "source": [
        "# Ex. 9.1 here\n",
        "import numpy as np\n",
        "import matplotlib.pyplot as plt\n",
        "\n",
        "# Generate a 2D numpy array representing the model state\n",
        "model_state = np.random.randint(0, 2, size=(10, 10))\n",
        "\n",
        "# Identify contiguous patches of cells with value 1\n",
        "patches = patchify(model_state, 1)\n",
        "\n",
        "# Obtain the patch-size counts\n",
        "patch_sizes, patch_size_counts = np.unique(patches, return_counts=True)\n",
        "patch_size_counts = patch_size_counts[1:]  # Ignore the 0th element, which corresponds to cells with value 0\n",
        "\n",
        "# Create a histogram of patch sizes\n",
        "plt.bar(patch_sizes[1:], patch_size_counts)\n",
        "plt.xlabel(\"Patch size\")\n",
        "plt.ylabel(\"Count\")\n",
        "plt.show()"
      ],
      "metadata": {
        "pycharm": {
          "name": "#%%\n"
        },
        "id": "st_vxoAuHlOm",
        "colab": {
          "base_uri": "https://localhost:8080/",
          "height": 282
        },
        "outputId": "935ab221-6838-419d-a72f-b7301d47b880"
      }
    },
    {
      "cell_type": "markdown",
      "source": [
        "## Ex. 9.2 Heavy-tailed distribution?\n",
        "The textbook author published a small Python package that encapsulates some of the work we did above to compute the \"empirical distribution\" from an array of data.  In paricular, his `PMF()` ([Probability Mass Function](https://en.wikipedia.org/wiki/Probability_mass_function)) function converts an array of unique values into an emirical distribution suitable for plotting\n",
        "\n",
        "You can see how this function is used in Ch. 10.5.\n",
        "And/Or check how it is used in the [chap10.ipynb notebook](https://github.com/pearcej/complex-colab/blob/master/notebooks/chap10.ipynb) in the complex-colab repo.\n",
        "And/Or look at the [API Documentation](https://nbviewer.org/github/AllenDowney/empiricaldist/blob/master/empiricaldist/dist_demo.ipynb)"
      ],
      "metadata": {
        "collapsed": false,
        "pycharm": {
          "name": "#%% md\n"
        },
        "id": "QlR5womYHlOm"
      }
    },
    {
      "cell_type": "code",
      "execution_count": null,
      "outputs": [],
      "source": [
        "# from empiricaldist import Pmf"
      ],
      "metadata": {
        "pycharm": {
          "name": "#%%\n"
        },
        "id": "jKSf0MiZHlOm"
      }
    },
    {
      "cell_type": "markdown",
      "source": [
        "\n",
        "\n",
        "```\n",
        "# This is formatted as code\n",
        "```\n",
        "\n",
        "Create a plot of the patch size distribution, both on a linear and log-log scale, similar to the example in Ch. 10.5"
      ],
      "metadata": {
        "collapsed": false,
        "pycharm": {
          "name": "#%% md\n"
        },
        "id": "JTHoiKvTHlOn"
      }
    },
    {
      "cell_type": "code",
      "execution_count": null,
      "outputs": [
        {
          "output_type": "display_data",
          "data": {
            "text/plain": [
              "<Figure size 432x288 with 1 Axes>"
            ],
            "image/png": "[encoded data removed]"
          },
          "metadata": {
            "needs_background": "light"
          }
        },
        {
          "output_type": "display_data",
          "data": {
            "text/plain": [
              "<Figure size 432x288 with 1 Axes>"
            ],
            "image/png": "[encoded data removed]"
          },
          "metadata": {
            "needs_background": "light"
          }
        }
      ],
      "source": [
        "# Ex. 9.2 here\n",
        "import numpy as np\n",
        "import matplotlib.pyplot as plt\n",
        "\n",
        "# Generate a 2D numpy array representing the model state\n",
        "model_state = np.random.randint(0, 2, size=(100, 100))\n",
        "\n",
        "\n",
        "# Identify contiguous patches of cells with value 1\n",
        "patches = patchify(model_state, 1)\n",
        "\n",
        "# Obtain the patch-size counts\n",
        "patch_sizes, patch_size_counts = np.unique(patches, return_counts=True)\n",
        "patch_size_counts = patch_size_counts[1:]  # Ignore the 0th element, which corresponds to cells with value 0\n",
        "\n",
        "plt.figure()\n",
        "plt.hist(patch_size_counts, bins=20, log=False)\n",
        "plt.xlabel(\"Patch size\")\n",
        "plt.ylabel(\"Count\")\n",
        "plt.title(\"Linear scale\")\n",
        "\n",
        "plt.figure()\n",
        "plt.hist(patch_size_counts, bins=20, log=True)\n",
        "plt.xlabel(\"Patch size\")\n",
        "plt.ylabel(\"Count\")\n",
        "plt.title(\"Log-log scale\")\n",
        "\n",
        "plt.show()\n"
      ],
      "metadata": {
        "pycharm": {
          "name": "#%%\n"
        },
        "id": "tiie8fqMHlOn",
        "colab": {
          "base_uri": "https://localhost:8080/",
          "height": 573
        },
        "outputId": "2dbc64a0-a2af-4a2e-ee95-f91926bf7461"
      }
    },
    {
      "cell_type": "markdown",
      "source": [
        "### Question 9.3\n",
        "\n",
        "Does the patch size distribution appear to follow the power law?\n",
        "Does it show any signs of being a \"heavy-tailed\" distribution?\n",
        "If it does, what might the implications be for our understanding of the dynamics of real forest ecosystems?\n",
        "\n",
        "#### Answers:\n",
        "It appears to follow a power law on the log-log scale.The heavy-tailede distribution appears in both linear and log-log. The distribution has a long tail and variance can be bigger in normal distribution. The implication can be that the loss of the patches can have a loss of biodiversity.\n"
      ],
      "metadata": {
        "collapsed": false,
        "pycharm": {
          "name": "#%% md\n"
        },
        "id": "omEqWy0jHlOn"
      }
    },
    {
      "cell_type": "markdown",
      "source": [
        "---------------------"
      ],
      "metadata": {
        "collapsed": false,
        "pycharm": {
          "name": "#%% md\n"
        },
        "id": "9bHKzRVgHlOn"
      }
    },
    {
      "cell_type": "markdown",
      "source": [
        "# Lab 10:  Fractal Dimension\n",
        "\n",
        "I highly recommend you start with this [**_2Blue1Brown Video_**](https://youtu.be/gB9n2gHsHN4), if you've not yet seen it.\n",
        "\n",
        "-----------------\n",
        "In this lab we will calculate the [fractal dimension](https://en.wikipedia.org/wiki/Fractal_dimension) of the forested areas thatour `ForestFire` model generates."
      ],
      "metadata": {
        "collapsed": false,
        "pycharm": {
          "name": "#%% md\n"
        },
        "id": "xLWJvAk1HlOn"
      }
    },
    {
      "cell_type": "markdown",
      "source": [
        "## Ex. 10.1 Box Counting\n",
        "\n",
        "We'll use the [box counting](https://en.wikipedia.org/wiki/Box_counting) algorithm, which, in essence, estimates how the measured amount of forested area scales at different sized counting grids (2D rulers).  You are welcome to pilfer the `box_count` code developed for measuring fractal dimension in the **Precolation** model.\n",
        "\n",
        "Run your model forward to steady-state, and use the box counting algorithm to estimate how the pattern of forested patches scales.  The result here show how the count of \"forested\" cells scales with the size of the \"box\" (grid cell) used to do the counting.\n",
        "Just looking at the results, do you think this is closer to a linear or a squared scaling factor?"
      ],
      "metadata": {
        "collapsed": false,
        "id": "cjjdaa1GHlOn"
      }
    },
    {
      "cell_type": "code",
      "source": [
        "DEFAULT_IMSHOW_OPTIONS = dict(\n",
        "    cmap = 'Blues',\n",
        "    interpolation='none',\n",
        "    origin='upper',\n",
        ")\n",
        "\n",
        "def plot_2D_array(array, axes=None, title='', **options):\n",
        "    \"\"\" Plot the 2D array as an image on the given axes  1's will be dark blue, 0's will be light blue. \"\"\"\n",
        "    axes = axes or plt.gca()   # If not axes are provided, draw on current axes\n",
        "    axes.set_title(title)\n",
        "    axes.set_xticks([], [])  # remove axes tick marks\n",
        "    axes.set_yticks([], [])\n",
        "    options = {**DEFAULT_IMSHOW_OPTIONS, **options}\n",
        "    axes.imshow(array, **options)\n",
        "\n",
        "\n",
        "class Percolation:\n",
        "    \"\"\" Percolation CA, representing a grid of porous and non-porous cells. \"\"\"\n",
        "    NONPOROUS = 0\n",
        "    POROUS = 1\n",
        "    WET = 5\n",
        "\n",
        "    # Diffuse only to cardinal neighbours\n",
        "    kernel = np.array([[0, 1, 0],\n",
        "                       [1, 0, 1],\n",
        "                       [0, 1, 0]])\n",
        "\n",
        "    def __init__(self, n, q=0.5):\n",
        "        \"\"\" Initializes nxn model with porous cells occurring with probability q\n",
        "            n: number of rows / cols in the grid\n",
        "            q: probability of a cell being porous\n",
        "        \"\"\"\n",
        "        self.n = n\n",
        "        self.q = q\n",
        "        self.array = np.random.choice([self.POROUS, self.NONPOROUS], (n, n), p=[q, 1 - q])\n",
        "\n",
        "        # fill the top row with wet cells\n",
        "        self.array[0] = self.WET\n",
        "\n",
        "    def step(self):\n",
        "        \"\"\" Simulate one time step. \"\"\"\n",
        "        c = correlate2d(self.array, self.kernel, mode='same')\n",
        "        wet = (self.array == self.POROUS) & (c >= self.WET)  # porous cells that have at least one wet neighbour\n",
        "        self.array[wet] = self.WET\n",
        "\n",
        "    def num_wet(self):\n",
        "        \"\"\" Return a count of wet cells in the percolation cluster \"\"\"\n",
        "        return np.sum(self.array == self.WET)\n",
        "\n",
        "    def bottom_row_wet(self):\n",
        "        \"\"\"Number of wet cells in the bottom row.\"\"\"\n",
        "        return np.sum(self.array[-1] == self.WET)\n",
        "\n",
        "    def simulate(self):\n",
        "        \"\"\"\n",
        "        Run percolation simulation until either water reaches bottom row or percolation stops\n",
        "        Return a tuple, (percs, n_steps) True iff the models block percolates from top to bottom after n_steps\n",
        "        \"\"\"\n",
        "        n_wet = [0, self.num_wet(), ]  # a list of # cells wet in each timestep.\n",
        "\n",
        "        def still_percolating():\n",
        "            \"\"\" Return true if model is still percolating, i.e. # wet at time t-1 > # wet at t-2 \"\"\"\n",
        "            return n_wet[-1] > n_wet[-2]\n",
        "\n",
        "        while not self.bottom_row_wet() and still_percolating():\n",
        "            self.step()\n",
        "            n_wet.append(self.num_wet())\n",
        "\n",
        "        return bool(self.bottom_row_wet()), len(n_wet) - 1\n",
        "\n",
        "    def is_permeable(self):\n",
        "        \"\"\"\n",
        "        Return True iff the models block percolates from top to bottom\n",
        "        \"\"\"\n",
        "        return self.simulate()[0]\n",
        "\n",
        "    def reset(self):\n",
        "        \"\"\" Reset all WET cells back to permeable and wet the top row again. \"\"\"\n",
        "        self.array[self.array == self.WET] = self.POROUS\n",
        "        self.array[0] = self.WET\n",
        "\n",
        "    def draw(self, axes=None, step=''):\n",
        "        \"\"\"Draws the cells on given axes.\"\"\"\n",
        "        axes = axes or plt.gca()  # use current axes if none are provided.\n",
        "        plot_2D_array(self.array, axes, cmap='Reds', title=f'Percolation {step}')"
      ],
      "metadata": {
        "id": "NBt9GztDG17M"
      },
      "execution_count": 3,
      "outputs": []
    },
    {
      "cell_type": "code",
      "source": [
        "def box_count(array, calibre, target=Percolation.WET):\n",
        "    \"\"\"\n",
        "    Tile the 2D array with a grid of square windows of given calibre,\n",
        "     return number of windows in the grid that contain at least one target cell\n",
        "    \"\"\"\n",
        "    rows,cols = array.shape\n",
        "    grid = (array[i:i+calibre, j:j+calibre] for i in range(0, rows-calibre+1, calibre) for j in range(0, cols-calibre+1, calibre))\n",
        "    return sum(target in window for window in grid)\n",
        "\n",
        "n=100\n",
        "q=0.5\n",
        "perc = Percolation(n, q)\n",
        "perc.simulate()\n",
        "\n",
        "calibres =  [2, 10, 50]\n",
        "counts = [box_count(perc.array, calibre) for calibre in calibres]\n",
        "f'Wet cell counts by window calibre: {dict((cal, cnt) for cal,cnt in zip(calibres, counts))}'"
      ],
      "metadata": {
        "colab": {
          "base_uri": "https://localhost:8080/",
          "height": 35
        },
        "id": "4akNYpYzG6pz",
        "outputId": "17012567-494e-4c6c-8de7-b4b31181276e"
      },
      "execution_count": 10,
      "outputs": [
        {
          "output_type": "execute_result",
          "data": {
            "text/plain": [
              "'Wet cell counts by window calibre: {2: 235, 10: 21, 50: 2}'"
            ],
            "application/vnd.google.colaboratory.intrinsic+json": {
              "type": "string"
            }
          },
          "metadata": {},
          "execution_count": 10
        }
      ]
    },
    {
      "cell_type": "code",
      "execution_count": null,
      "outputs": [],
      "source": [
        "# Ex. 10.1 here"
      ],
      "metadata": {
        "pycharm": {
          "name": "#%%\n"
        },
        "id": "GEx3yWUZHlOn"
      }
    },
    {
      "cell_type": "markdown",
      "source": [
        "## Ex. 10.2  Estimate Fractal Dimension\n",
        "\n",
        "If we plot the count of forested cells versus the size of the \"box\" on a log-log scale, the slope estimates the fractal dimension.\n",
        "\n",
        "Estimate the slope of your box-count data using a log-log linear regression (again, feel free to pilfer the `log_slope` function).\n",
        "Plot the graph that shows the box-count data in relation to a simple linear and square scaling relation (again, pilfer code as needed)."
      ],
      "metadata": {
        "collapsed": false,
        "id": "Jzh37omhHlOn"
      }
    },
    {
      "cell_type": "code",
      "execution_count": 8,
      "outputs": [],
      "source": [
        "# Ex. 10.2 here\n",
        "def log_slope(xs, ys):\n",
        "    \"\"\" Estimate the slope of log-space plot of data points using linear regression \"\"\"\n",
        "    slope,*_ = linregress(np.log(xs), np.log(ys))\n",
        "    return slope"
      ],
      "metadata": {
        "pycharm": {
          "name": "#%%\n"
        },
        "id": "pDpIyQviHlOn"
      }
    },
    {
      "cell_type": "markdown",
      "source": [
        "## Ex. 10.3  Scaling Experiment\n",
        "\n",
        "In our study of Percolation patterns, we plotted the scaling factor and fractal dimension to visualize how the pattern scales compared to simple linear and square scaling.  We set up an experiment to explore how fractal dimension changed for different model paraemter values, and to idenify a critical values where [phase transitions](https://en.wikipedia.org/wiki/Phase_transition) occur.\n",
        "\n",
        "Repeat these experiments for the `ForestFire` model.  Again, you may adapt the code developed for Percolation."
      ],
      "metadata": {
        "collapsed": false,
        "pycharm": {
          "name": "#%% md\n"
        },
        "id": "oq0O0-fQHlOo"
      }
    },
    {
      "cell_type": "code",
      "source": [
        "def plot_scaling(perc):\n",
        "    \"\"\"\n",
        "    Plot how the number of wet cells in the given perc model scales\n",
        "    Compare this plot to 1D (y = x) and 2D (y = x**2) scaling factors\n",
        "    \"\"\"\n",
        "    calibres = np.array(range(2, perc.n//2, 10))\n",
        "    wet_counts = np.array([box_count(perc.array, calibre) for calibre in calibres])\n",
        "    xs = perc.n / calibres  # xs are the number of grid squares so they scale in same direction as counts\n",
        "\n",
        "    line_options = dict(linestyle='dashed', color='gray', alpha=0.7)\n",
        "    plt.plot(xs, xs**2, label='2-D', **line_options)              # y =  x**2\n",
        "    plt.plot(xs, wet_counts, '.', label=f'wet cells')             # y = 1 / wet cell count for window size x\n",
        "    plt.plot(xs, xs, label='1-D', **line_options)                 # y = x\n",
        "\n",
        "    title = f'Fractal Dimension: {log_slope(xs, wet_counts):0.2f}'\n",
        "    plt.gca().set(title=title, xlabel='Grid Size', ylabel='# Wet Cells', xscale='log', yscale='log')\n",
        "    plt.legend()"
      ],
      "metadata": {
        "id": "CjZaxBBF0fec"
      },
      "execution_count": 4,
      "outputs": []
    },
    {
      "cell_type": "code",
      "source": [
        "def scaling_experiment(n, q):\n",
        "    \"\"\" Run an experiment to calculate and plot the fractal dimension of Percolation(n, q) \"\"\"\n",
        "    perc = Percolation(n, q)\n",
        "    perc.simulate()\n",
        "\n",
        "    plt.subplots(1, 2, figsize=(18, 6))\n",
        "    plt.subplot(1, 2, 1)\n",
        "    perc.draw()\n",
        "    plt.subplot(1, 2, 2)\n",
        "    plot_scaling(perc)\n",
        "\n",
        "# Critical value of q, q_crit ~= 0.59\n",
        "n=200\n",
        "q=0.5\n",
        "scaling_experiment(n, q)"
      ],
      "metadata": {
        "colab": {
          "base_uri": "https://localhost:8080/",
          "height": 534
        },
        "id": "ACkdIxD50kvt",
        "outputId": "f154267e-043e-4947-b1d9-d8745381cfdd"
      },
      "execution_count": 11,
      "outputs": [
        {
          "output_type": "display_data",
          "data": {
            "text/plain": [
              "<Figure size 1800x600 with 2 Axes>"
            ],
            "image/png": "[encoded data removed]"
          },
          "metadata": {}
        }
      ]
    },
    {
      "cell_type": "code",
      "source": [
        "def fractal_dimensions_experiment(qs, n=100):\n",
        "    \"\"\"\n",
        "    Plot how the fractal dimension of percolation clusters change for different values of q\n",
        "    \"\"\"\n",
        "    calibres = np.array(range(2, n//2, 10))\n",
        "    fractal_dimensions = []\n",
        "    for q in qs:\n",
        "        perc = Percolation(n, q)\n",
        "        perc.simulate()\n",
        "        wet_counts = np.array([box_count(perc.array, calibre) for calibre in calibres])\n",
        "        xs = perc.n / calibres  # xs are the number of grid squares so counts scale in same direction\n",
        "\n",
        "        fractal_dimensions.append( log_slope(xs, wet_counts) )\n",
        "    return fractal_dimensions\n",
        "\n",
        "n = 100\n",
        "qs=[0.3, 0.4, 0.45, 0.5, 0.525, 0.55, 0.57, 0.59, 0.61, 0.65, 0.7, 0.8]\n",
        "dims = fractal_dimensions_experiment(qs, n)\n",
        "title = f'Percolation Cluster Fractal Dimension'\n",
        "plt.gca().set(title=title, xlabel='q', ylabel='Df')\n",
        "plt.plot(qs, dims)\n",
        "plt.show()"
      ],
      "metadata": {
        "id": "Di0dh1Dz0s6h"
      },
      "execution_count": null,
      "outputs": []
    },
    {
      "cell_type": "code",
      "execution_count": null,
      "outputs": [],
      "source": [
        "# Ex. 10.3 here\n"
      ],
      "metadata": {
        "pycharm": {
          "name": "#%%\n"
        },
        "id": "fVuflJ3xHlOo"
      }
    },
    {
      "cell_type": "markdown",
      "source": [
        "### Question 10.4:\n",
        "How does the fractal dimension change for different values of $p$ and $f$?\n",
        "Does there appear to be a critical value where the fractal dimension goes through a phase change, like we saw for Percolation?\n",
        "What conclusions might your draw about the complexity of forest edges in real forest ecosystems?  How does this compare the the man-made edges that typically result from industrial logging?\n",
        "\n",
        "#### Answers:\n",
        "There appears to be a critical value where the fractal dimension goes through a phase change. Less complex edges can have negative impacts on biodiversity and ecosystem functioning. If fractal dimension is lower, than the model is missing some key features in forest systems."
      ],
      "metadata": {
        "collapsed": false,
        "id": "-GYDdg8fHlOo"
      }
    }
  ],
  "metadata": {
    "kernelspec": {
      "display_name": "Python 3",
      "language": "python",
      "name": "python3"
    },
    "language_info": {
      "codemirror_mode": {
        "name": "ipython",
        "version": 2
      },
      "file_extension": ".py",
      "mimetype": "text/x-python",
      "name": "python",
      "nbconvert_exporter": "python",
      "pygments_lexer": "ipython2",
      "version": "2.7.6"
    },
    "colab": {
      "provenance": []
    }
  },
  "nbformat": 4,
  "nbformat_minor": 0
}