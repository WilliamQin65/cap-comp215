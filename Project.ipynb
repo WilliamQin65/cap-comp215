{
  "nbformat": 4,
  "nbformat_minor": 0,
  "metadata": {
    "colab": {
      "provenance": [],
      "authorship_tag": "ABX9TyOM896FlhYdxLWz9fBzrpaw",
      "include_colab_link": true
    },
    "kernelspec": {
      "name": "python3",
      "display_name": "Python 3"
    },
    "language_info": {
      "name": "python"
    }
  },
  "cells": [
    {
      "cell_type": "markdown",
      "metadata": {
        "id": "view-in-github",
        "colab_type": "text"
      },
      "source": [
        "<a href=\"https://colab.research.google.com/github/WilliamQin65/cap-comp215/blob/main/Project.ipynb\" target=\"_parent\"><img src=\"https://colab.research.google.com/assets/colab-badge.svg\" alt=\"Open In Colab\"/></a>"
      ]
    },
    {
      "cell_type": "code",
      "execution_count": 85,
      "metadata": {
        "id": "ahilob6w7TzU"
      },
      "outputs": [],
      "source": [
        "import datetime, json, requests\n",
        "import matplotlib.pyplot as plt\n",
        "import matplotlib.dates as mdates\n",
        "from pprint import pprint    # Pretty Print - built-in python function to nicely format data structures"
      ]
    },
    {
      "cell_type": "code",
      "source": [
        "def format_date_axis(ax):\n",
        "    locator = mdates.AutoDateLocator(minticks=10, maxticks=20)\n",
        "    formatter = mdates.ConciseDateFormatter(locator)\n",
        "    ax.xaxis.set_major_locator(locator)\n",
        "    ax.xaxis.set_major_formatter(formatter)"
      ],
      "metadata": {
        "id": "pN-IHrp9WoH6"
      },
      "execution_count": 86,
      "outputs": []
    },
    {
      "cell_type": "code",
      "source": [
        "# Province, start_date, end_date\n",
        "province = 'ON'\n",
        "start_date = '2020-11-01'\n",
        "end_date = '2021-02-27'"
      ],
      "metadata": {
        "id": "uK_sSOwJcyZo"
      },
      "execution_count": 87,
      "outputs": []
    },
    {
      "cell_type": "code",
      "source": [
        "query = f'https://api.opencovid.ca/timeseries?stat=cases&loc={province}&after={start_date}&before={end_date}'"
      ],
      "metadata": {
        "id": "lOMfgXwZczbE"
      },
      "execution_count": 88,
      "outputs": []
    },
    {
      "cell_type": "code",
      "source": [
        "response = requests.get(query)\n",
        "result = response.json()\n",
        "cases = result['data']['cases']\n",
        "case_dates = [daily['date'] for daily in cases]\n",
        "number_of_cases = [daily['value'] for daily in cases]"
      ],
      "metadata": {
        "id": "cAWH58JOczdD"
      },
      "execution_count": 89,
      "outputs": []
    },
    {
      "cell_type": "code",
      "source": [
        "def format_date_axis(ax):\n",
        "    \"\"\" format the dates shown on the x-axis of given axes, ax  \"\"\"\n",
        "    locator = mdates.AutoDateLocator(minticks=10, maxticks=20)\n",
        "    formatter = mdates.ConciseDateFormatter(locator)\n",
        "    ax.xaxis.set_major_locator(locator)\n",
        "    ax.xaxis.set_major_formatter(formatter)\n",
        "\n",
        "fig, ax = plt.subplots()\n",
        "format_date_axis(ax)\n",
        "ax.plot(case_dates, number_of_cases, label='Daily Cases')\n",
        "ax.set_xlabel('Date')\n",
        "ax.set_ylabel('Confirmed Cases')\n",
        "ax.set_title(f'COVID-19 Case Counts for {province} from {start_date} to {end_date}')\n",
        "ax.legend()\n",
        "plt.show()"
      ],
      "metadata": {
        "colab": {
          "base_uri": "https://localhost:8080/",
          "height": 295
        },
        "id": "EfoMgDa7czfK",
        "outputId": "c379c1e2-deb7-4f52-dd8a-60fbba2f86cb"
      },
      "execution_count": 90,
      "outputs": [
        {
          "output_type": "display_data",
          "data": {
            "text/plain": [
              "<Figure size 432x288 with 1 Axes>"
            ],
            "image/png": "[encoded data removed]"
          },
          "metadata": {
            "needs_background": "light"
          }
        }
      ]
    }
  ]
}