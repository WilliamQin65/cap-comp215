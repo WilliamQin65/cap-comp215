{
  "nbformat": 4,
  "nbformat_minor": 0,
  "metadata": {
    "colab": {
      "provenance": [],
      "authorship_tag": "ABX9TyMJEvpIfvlhAsC4wyowfX5w",
      "include_colab_link": true
    },
    "kernelspec": {
      "name": "python3",
      "display_name": "Python 3"
    },
    "language_info": {
      "name": "python"
    }
  },
  "cells": [
    {
      "cell_type": "markdown",
      "metadata": {
        "id": "view-in-github",
        "colab_type": "text"
      },
      "source": [
        "<a href=\"https://colab.research.google.com/github/WilliamQin65/cap-comp215/blob/main/Project2.ipynb\" target=\"_parent\"><img src=\"https://colab.research.google.com/assets/colab-badge.svg\" alt=\"Open In Colab\"/></a>"
      ]
    },
    {
      "cell_type": "code",
      "execution_count": 3,
      "metadata": {
        "id": "hXsFBWTVWrTy"
      },
      "outputs": [],
      "source": [
        "%matplotlib inline\n",
        "\n",
        "import time\n",
        "import math\n",
        "import matplotlib\n",
        "import matplotlib.pyplot as plt\n",
        "import numpy as np\n",
        "\n",
        "from dataclasses import dataclass\n",
        "from matplotlib import animation\n",
        "from scipy.signal import correlate2d\n",
        "\n",
        "# Configure matplotlib's animation library to work in the browser.\n",
        "matplotlib.rc('animation', html='jshtml')"
      ]
    },
    {
      "cell_type": "code",
      "source": [
        "DEFAULT_IMSHOW_OPTIONS = dict(\n",
        "    cmap='Blues',\n",
        "    interpolation='none',\n",
        "    origin='upper',\n",
        ")\n",
        "\n",
        "def plot_2D_array(array, axes=None, title='', **options):\n",
        "    \"\"\" Plot the 2D array as an image on the given axes  1's will be dark blue, 0's will be light blue. \"\"\"\n",
        "    axes = axes or plt.gca()  # If not axes are provided, draw on current axes\n",
        "    axes.set_title(title)\n",
        "    axes.set_xticks([], [])  # remove axes tick marks\n",
        "    axes.set_yticks([], [])\n",
        "    options = {**DEFAULT_IMSHOW_OPTIONS, **options}\n",
        "    axes.imshow(array, **options)"
      ],
      "metadata": {
        "id": "ASvH1mgjXI2p"
      },
      "execution_count": null,
      "outputs": []
    },
    {
      "cell_type": "code",
      "source": [
        "class Animation2D:\n",
        "    \"\"\"\n",
        "      Animates any 2D model with a step() method and a draw() method, using matplotlib\n",
        "      model.step() should take no parameters - just step the model forward one step.\n",
        "      model.draw() should take 2 parameters, the matpltolib axes to draw on and an integer step number\n",
        "\n",
        "      See https://www.allendowney.com/blog/2019/07/25/matplotlib-animation-in-jupyter/\n",
        "          for a discussion of the pros and cons of various animation techniques in jupyter notebooks\n",
        "    \"\"\"\n",
        "\n",
        "    def __init__(self, model, frames=50, steps_per_frame=1, figsize=(8, 8)):\n",
        "        \"\"\"\n",
        "        :param model: the simulation object to animate, with step() and draw(axes, step) methods\n",
        "        :param frames: number of animation frames to generate\n",
        "        \"\"\"\n",
        "        self.model = model\n",
        "        self.frames = frames\n",
        "        self.steps_per_frame = steps_per_frame\n",
        "        self.fig, self.ax = plt.subplots(figsize=figsize)\n",
        "\n",
        "    def animation_step(self, step):\n",
        "        \"\"\" Step the model forward and draw the plot \"\"\"\n",
        "        if step > 0:\n",
        "            for _ in range(self.steps_per_frame):\n",
        "                self.model.step()\n",
        "        self.model.draw(self.ax, step=step * self.steps_per_frame)\n",
        "\n",
        "    def show(self):\n",
        "        \"\"\" return the matplotlib animation object, ready for display \"\"\"\n",
        "        anim = animation.FuncAnimation(self.fig, self.animation_step, frames=self.frames)\n",
        "        plt.close()  # this ensures the last frame is not shown as a separate plot\n",
        "        return anim\n",
        "\n",
        "    def animate(self, interval=None):\n",
        "        \"\"\" Animate the model simulation directly in the notebook display block \"\"\"\n",
        "        from IPython.display import clear_output\n",
        "        try:\n",
        "            for i in range(self.frames):\n",
        "                clear_output(wait=True)  # clear the IPython display\n",
        "                self.ax.clear()  # clear old image from the axes (fixes a performance issue)\n",
        "                plt.figure(self.fig)  # add the figure back to pyplot ** sigh **\n",
        "                self.animation_step(i)\n",
        "                plt.show()  # show the current animation frame (pyplot then closes and throws away figure ** sigh **)\n",
        "                if interval:\n",
        "                    time.sleep(interval)\n",
        "        except KeyboardInterrupt:\n",
        "            pass"
      ],
      "metadata": {
        "id": "sPgrcSFdXt1Y"
      },
      "execution_count": 4,
      "outputs": []
    },
    {
      "cell_type": "code",
      "source": [
        "class ForestFire:\n",
        "    \"\"\" 2D Cellular Automaton that simulates a fire-dominated landscape \"\"\"\n",
        "\n",
        "    # Define names for the 3 possible cell states\n",
        "    EMPTY = 0\n",
        "    OCCUPIED = 1\n",
        "    FIRE = 5\n",
        "\n",
        "    # Define a colour map that maps each cell state to an intuitive colour.\n",
        "    cmap = [(1, 0.5, 0), (0, 1, 0), (0, 0, 0), (0, 0, 0), (0, 0, 0), (1, 0, 0)]\n",
        "    cmap[EMPTY] = (1, 0.5, 0)  # brown\n",
        "    cmap[OCCUPIED] = (0, 1, 0)  # green\n",
        "    cmap[FIRE] = (1, 0, 0)  # red\n",
        "    forest_colour_map = matplotlib.colors.ListedColormap(cmap)\n",
        "\n",
        "    # TODO: define a sensible correlation kernel\n",
        "    kernel = np.array([[0, 1, 0],\n",
        "                       [1, 0, 1],\n",
        "                       [0, 0, 0]])\n",
        "\n",
        "\n",
        "    def __init__(self, n, p=0.01, f=0.001, q=0.5, wind_dir=0):\n",
        "        \"\"\"Initializes the model.\n",
        "        n: number of rows\n",
        "        p: probability an empty cells becomes \"forested\" (occupied)\n",
        "        f: probability of spontaneous file (e.g., 1/fire ignition interval)\n",
        "        q: initial forest density (probability cell is \"forested\" in initial state)\n",
        "        wind_dir: wind direction(0:North, 1:South, 2:East, 3:West)\n",
        "        \"\"\"\n",
        "        self.n = n\n",
        "        self.q = q\n",
        "        self.p = p\n",
        "        self.f = f\n",
        "        self.wind_dir = wind_dir\n",
        "        # initialize landscape with approx. q proportion of cells OCCUPIED\n",
        "        self.array = np.random.choice([self.OCCUPIED, self.EMPTY], (n, n), p=[q, 1 - q])\n",
        "        \n",
        "    def step(self, wind_speed=0):\n",
        "        \"\"\"Executes one time step, applying the CA rules to regenerate and burn forest.\"\"\"\n",
        "        # TODO: define the rules for the CA. This is a significant challenge b/c there are 4 rules and they must act independently!\n",
        "        on_fire = self.array == self.FIRE\n",
        "        empty = self.array == self.EMPTY\n",
        "        forested = self.array == self.OCCUPIED\n",
        "\n",
        "        # step 1: An empty cell becomes occupied with probability p.\n",
        "        empty_cells = np.random.random(self.array.shape) < self.p\n",
        "        self.array[empty & empty_cells] = self.OCCUPIED\n",
        "        # step 2: A cell with a tree burns if any of its neighbors is on fire.\n",
        "        correlate= correlate2d(forested, self.kernel, mode='same', boundary='wrap')\n",
        "        self.array[correlate > 0] = self.FIRE\n",
        "        # step 3: A cell with a tree spontaneously burns, with probability f, even if none of its neighbors is on fire.\n",
        "        s_burn = np.random.random(self.array.shape) < self.f\n",
        "        # step 4: A cell with a burning tree becomes an empty cell in the next time step.\n",
        "        self.array[on_fire] = self.EMPTY\n",
        "\n",
        "    def num_occupied(self):\n",
        "        \"\"\" return the number of cells occupied by forest \"\"\"\n",
        "        return np.sum(self.array == self.OCCUPIED)\n",
        "\n",
        "    def pct_occupied(self):\n",
        "        \"\"\" return the proportion of cells occupied by forest \"\"\"\n",
        "        return self.num_occupied() / self.array.size\n",
        "\n",
        "    def draw(self, axes=None, step='', wind_speed=0, wind_dir=0):\n",
        "        \"\"\"Draws the CA cells using the forest colour map so values are coloured intuitively.\"\"\"\n",
        "        axes = axes or plt.axes\n",
        "        title = f'Time:{step} Occupied: {round(self.pct_occupied() * 100, 2)}%'\n",
        "        plot_2D_array(self.array, axes=axes, title=title,\n",
        "                      cmap=self.forest_colour_map, vmin=0, vmax=len(self.forest_colour_map.colors))"
      ],
      "metadata": {
        "id": "vZlWBEWoXy7P"
      },
      "execution_count": 7,
      "outputs": []
    },
    {
      "cell_type": "code",
      "source": [
        "f = ForestFire(100,0.01,0.001,0.5,0.5)\n",
        "Animation = Animation2D(f,frames = 100, steps_per_frame = 1)\n",
        "Animation.animate(0.3)"
      ],
      "metadata": {
        "id": "-xQC0Hulisk5",
        "colab": {
          "base_uri": "https://localhost:8080/",
          "height": 675
        },
        "outputId": "23481915-9107-4f34-c0a9-67f86e8ae38b"
      },
      "execution_count": null,
      "outputs": [
        {
          "output_type": "display_data",
          "data": {
            "text/plain": [
              "<Figure size 800x800 with 1 Axes>"
            ],
            "image/png": "[encoded data removed]"
          },
          "metadata": {}
        }
      ]
    },
    {
      "cell_type": "markdown",
      "source": [
        "For each feature you add, re-run some of the experiments we did in the lab and compare the new model\n",
        "behaviour with the original to determine in what ways the additional feature changes its behaviour and what\n",
        "we might learn from that...\n",
        "1. Are the results similar to those from the simpler model?\n",
        "2. If they are different, in what ways (qualitative and quantitative).\n",
        "In what ways might the extended model contribute to our understanding of fire-mediated landscape\n",
        "patterns?\n",
        "3. Are there scientific questions you could answer with the extended model that are not well-suited to the\n",
        "simpler model? What about the other way around?\n",
        "\n",
        "Display your results with at least one animation and one chart, and provide a short discussion that addresses at\n",
        "least some of the questions above."
      ],
      "metadata": {
        "id": "9VD808URtE-5"
      }
    },
    {
      "cell_type": "markdown",
      "source": [],
      "metadata": {
        "id": "ui_IqYL-_O-n"
      }
    },
    {
      "cell_type": "markdown",
      "source": [
        "**What is the Big-O time complexity of the algorithm we are using here to simulate this system?\n",
        "What implications does that have for running larger or longer CA experiments?**"
      ],
      "metadata": {
        "id": "wHD-jfXfX5jy"
      }
    },
    {
      "cell_type": "markdown",
      "source": [
        "The Big-O time complexity of the algorithm we are using here is O(n^2). N means the dimension of the square array. As the size of the array increases,the time it takes to take execute the time steo will also increase. Running larger or longer CA experiments will take a lot of time to execute, we should limit the size and duration of the experiment."
      ],
      "metadata": {
        "id": "Tc-hLrOwlSvb"
      }
    },
    {
      "cell_type": "markdown",
      "source": [
        "**Use Python’s timeit to do some actual timings to support your algorithm analysis.**\n",
        "\n",
        "---\n",
        "\n"
      ],
      "metadata": {
        "id": "CfzdCA6VX7kq"
      }
    },
    {
      "cell_type": "code",
      "source": [
        "import timeit\n",
        "# create a ForestFire object with n=100\n",
        "ff = ForestFire(100)\n",
        "# measure the execution time of the step() method\n",
        "time_taken = timeit.timeit(ff.step, number=1000)\n",
        "print(f\"Time taken: {time_taken:.2f} seconds\")"
      ],
      "metadata": {
        "colab": {
          "base_uri": "https://localhost:8080/"
        },
        "id": "OhV7clwnnp5Y",
        "outputId": "93c38860-dadf-48f8-d581-f7d69eb6128b"
      },
      "execution_count": 10,
      "outputs": [
        {
          "output_type": "stream",
          "name": "stdout",
          "text": [
            "Time taken: 0.85 seconds\n"
          ]
        }
      ]
    },
    {
      "cell_type": "markdown",
      "source": [
        "**Early in the Chapter 8 notebook, the author makes some efficiency improvements to the basic\n",
        "algorithm. Do these improvements change the Big-O time complexity?\n",
        "Do they reduce the multiplicative coefficient (linear improvement) or the constant (overhead)**"
      ],
      "metadata": {
        "id": "0IP5UulHYH6A"
      }
    },
    {
      "cell_type": "markdown",
      "source": [
        "These improvements do not change the Big-O time complexity. They reduce the multiplicative coefficient or the constant by making it faster and in a long-running simulations."
      ],
      "metadata": {
        "id": "eDXg06v-lUbg"
      }
    }
  ]
}