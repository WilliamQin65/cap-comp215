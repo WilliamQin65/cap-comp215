{
  "nbformat": 4,
  "nbformat_minor": 0,
  "metadata": {
    "colab": {
      "provenance": [],
      "authorship_tag": "ABX9TyM+E3qVcwopHKjr6VZ+uhtS",
      "include_colab_link": true
    },
    "kernelspec": {
      "name": "python3",
      "display_name": "Python 3"
    },
    "language_info": {
      "name": "python"
    }
  },
  "cells": [
    {
      "cell_type": "markdown",
      "metadata": {
        "id": "view-in-github",
        "colab_type": "text"
      },
      "source": [
        "<a href=\"https://colab.research.google.com/github/WilliamQin65/cap-comp215/blob/main/Take_Home_Exam.ipynb\" target=\"_parent\"><img src=\"https://colab.research.google.com/assets/colab-badge.svg\" alt=\"Open In Colab\"/></a>"
      ]
    },
    {
      "cell_type": "markdown",
      "source": [
        "**Purpose**"
      ],
      "metadata": {
        "id": "x0UcXrxsliR3"
      }
    },
    {
      "cell_type": "markdown",
      "source": [
        "The purpose of this notebook is to help understand what does the Watts-Strogatz model look like, which is a model to generate small-world networks. We will also run the experiment this mathematical model by using Python, and then generate small-world networks with varying parameters.\n",
        "\n",
        "Author: William Qin\n",
        "\n",
        "Date: 2023-04-18"
      ],
      "metadata": {
        "id": "cbP8caezvABW"
      }
    },
    {
      "cell_type": "markdown",
      "source": [
        "**Story**"
      ],
      "metadata": {
        "id": "yEpqD0xBvGiq"
      }
    },
    {
      "cell_type": "markdown",
      "source": [
        "In 1998 Duncan Watts and Steven Strogatz published a paper in Nature, “Collective dynamics of ‘small-world’ networks”, that proposed an explanation for the small world phenomenon.\n",
        "\n",
        "Their goal was to create a generative model of a social network. A generative model tries to explain a phenomenon by modeling the process that builds or leads to the phenomenon. Watts and Strogatz proposed this process for building small-world graphs:\n",
        "\n",
        "1.Start with a regular graph with nodes and each node connected to neighbors.\n",
        "\n",
        "2.Choose a subset of the edges and “rewire” them by replacing them with random edges.\n",
        "\n",
        "They consider two properties of these graphs, clustering and path length:\n",
        "\n",
        "*   **Clustering** is a measure of the “cliquishness” of the graph. In a graph, a clique is a subset of nodes that are all connected to each other; in a social network, a clique is a set of people who are all friends with each other. Watts and Strogatz defined a clustering coefficient that quantifies the likelihood that two nodes that are connected to the same node are also connected to each other.\n",
        "*   **Path length** is a measure of the average distance between two nodes, which corresponds to the degrees of separation in a social network.\n",
        "\n"
      ],
      "metadata": {
        "id": "Xe7qhTcIvPNO"
      }
    },
    {
      "cell_type": "markdown",
      "source": [
        "It starts with the ring lattice."
      ],
      "metadata": {
        "id": "tyNSiWRJyyag"
      }
    },
    {
      "cell_type": "markdown",
      "source": [
        "**Experiment**"
      ],
      "metadata": {
        "id": "UDuOktafvVF9"
      }
    },
    {
      "cell_type": "markdown",
      "source": [],
      "metadata": {
        "id": "qQ0umKKZvczm"
      }
    }
  ]
}