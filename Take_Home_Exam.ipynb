{
  "nbformat": 4,
  "nbformat_minor": 0,
  "metadata": {
    "colab": {
      "provenance": [],
      "authorship_tag": "ABX9TyOPMcyfYSCcbHc7xE/j0j4g",
      "include_colab_link": true
    },
    "kernelspec": {
      "name": "python3",
      "display_name": "Python 3"
    },
    "language_info": {
      "name": "python"
    }
  },
  "cells": [
    {
      "cell_type": "markdown",
      "metadata": {
        "id": "view-in-github",
        "colab_type": "text"
      },
      "source": [
        "<a href=\"https://colab.research.google.com/github/WilliamQin65/cap-comp215/blob/main/Take_Home_Exam.ipynb\" target=\"_parent\"><img src=\"https://colab.research.google.com/assets/colab-badge.svg\" alt=\"Open In Colab\"/></a>"
      ]
    },
    {
      "cell_type": "markdown",
      "source": [
        "**Purpose**"
      ],
      "metadata": {
        "id": "agdIS3e_YUaZ"
      }
    },
    {
      "cell_type": "markdown",
      "source": [
        "The purpose of this notebook is to help understand what does the Watts-Strogatz model look like, which is a model to generate small-world networks. We will also run the experiment this mathematical model by using Python, and then generate small-world networks with varying parameters.\n",
        "\n",
        "Author: William Qin\n",
        "\n",
        "Date: 2023-04-18"
      ],
      "metadata": {
        "id": "cbP8caezvABW"
      }
    },
    {
      "cell_type": "markdown",
      "source": [
        "**Story**"
      ],
      "metadata": {
        "id": "yEpqD0xBvGiq"
      }
    },
    {
      "cell_type": "markdown",
      "source": [
        "In 1998 Duncan Watts and Steven Strogatz published a paper in Nature, “Collective dynamics of ‘small-world’ networks”, that proposed an explanation for the small world phenomenon.\n",
        "\n",
        "Their goal was to create a generative model of a social network. A generative model tries to explain a phenomenon by modeling the process that builds or leads to the phenomenon. Watts and Strogatz proposed this process for building small-world graphs:\n",
        "\n",
        "1.Start with a regular graph with nodes and each node connected to neighbors.\n",
        "\n",
        "2.Choose a subset of the edges and “rewire” them by replacing them with random edges.\n",
        "\n",
        "They consider two properties of these graphs, clustering and path length:\n",
        "\n",
        "*   **Clustering** is a measure of the “cliquishness” of the graph. In a graph, a clique is a subset of nodes that are all connected to each other; in a social network, a clique is a set of people who are all friends with each other. Watts and Strogatz defined a clustering coefficient that quantifies the likelihood that two nodes that are connected to the same node are also connected to each other.\n",
        "*   **Path length** is a measure of the average distance between two nodes, which corresponds to the degrees of separation in a social network.\n",
        "\n"
      ],
      "metadata": {
        "id": "Xe7qhTcIvPNO"
      }
    },
    {
      "cell_type": "markdown",
      "source": [
        "**The Scientifc Idea**"
      ],
      "metadata": {
        "id": "UDuOktafvVF9"
      }
    },
    {
      "cell_type": "markdown",
      "source": [
        "We need social networks to connect people around the world. We use several social media platforms and communicate with each other. This experiment can help us know gow does social network evolve. It begins with the rings of nodes, each of the nodes connects to the nearest neighbours."
      ],
      "metadata": {
        "id": "qQ0umKKZvczm"
      }
    },
    {
      "cell_type": "code",
      "source": [
        "import numpy as np\n",
        "import networkx as nx\n",
        "import matplotlib.pyplot as plt\n",
        "\n",
        "class WattsStrogatz:\n",
        "    \"\"\"\n",
        "    A class representing the Watts-Strogatz experiment, a generative model of social networks.\n",
        "    \"\"\"\n",
        "    def __init__(self, N, k, p):\n",
        "        \"\"\"\n",
        "        Initializes the class with a ring of N nodes, each connected to its k nearest neighbors, and a rewiring probability of p.\n",
        "        \"\"\"\n",
        "        self.N = N\n",
        "        self.k = k\n",
        "        self.p = p\n",
        "        self.G = nx.watts_strogatz_graph(N, k, p)\n",
        "    \n",
        "    def reconnect(self):\n",
        "        \"\"\"\n",
        "        Rewires each edge with probability p.\n",
        "        \"\"\"\n",
        "        self.G = nx.watts_strogatz_graph(self.N, self.k, self.p)\n",
        "        \n",
        "    def plot_network(self):\n",
        "        \"\"\"\n",
        "        Plots the current state of the network.\n",
        "        \"\"\"\n",
        "        plt.figure(figsize=(8, 6))\n",
        "        pos = nx.spring_layout(self.G)\n",
        "        nx.draw(self.G, pos=pos, node_size=50)\n",
        "        plt.title(f\"Watts-Strogatz Network (N={self.N}, k={self.k}, p={self.p})\")\n",
        "        plt.show()\n",
        "    \n",
        "    def degree_distribution(self):\n",
        "        \"\"\"\n",
        "        Computes the degree distribution of the network.\n",
        "        \"\"\"\n",
        "        degrees = np.array(list(dict(self.G.degree()).values()))\n",
        "        hist, bins = np.histogram(degrees, bins=np.arange(min(degrees), max(degrees)+2))\n",
        "        return hist\n",
        "    \n",
        "    def clustering_coefficient(self):\n",
        "        \"\"\"\n",
        "        Computes the clustering coefficient of the network.\n",
        "        \"\"\"\n",
        "        return nx.average_clustering(self.G)"
      ],
      "metadata": {
        "id": "ESw6ZosCbHrS"
      },
      "execution_count": 15,
      "outputs": []
    },
    {
      "cell_type": "markdown",
      "source": [
        "**Computational Experiment**"
      ],
      "metadata": {
        "id": "Ij4p0XGxltD8"
      }
    },
    {
      "cell_type": "markdown",
      "source": [],
      "metadata": {
        "id": "f1Jnlm5nmd7_"
      }
    }
  ]
}