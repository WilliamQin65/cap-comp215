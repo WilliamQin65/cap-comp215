{
  "nbformat": 4,
  "nbformat_minor": 0,
  "metadata": {
    "colab": {
      "provenance": [],
      "authorship_tag": "ABX9TyPVw0iIkj9uoxaenLUYWNk7",
      "include_colab_link": true
    },
    "kernelspec": {
      "name": "python3",
      "display_name": "Python 3"
    },
    "language_info": {
      "name": "python"
    }
  },
  "cells": [
    {
      "cell_type": "markdown",
      "metadata": {
        "id": "view-in-github",
        "colab_type": "text"
      },
      "source": [
        "<a href=\"https://colab.research.google.com/github/WilliamQin65/cap-comp215/blob/main/Take_Home_Exam.ipynb\" target=\"_parent\"><img src=\"https://colab.research.google.com/assets/colab-badge.svg\" alt=\"Open In Colab\"/></a>"
      ]
    },
    {
      "cell_type": "markdown",
      "source": [
        "Develop a well-structured notebook, with markdown and code blocks that develop and document the mathematical and/or scientific ideas and the computational techniques used in the implementation. \n",
        "Your notebook should:\n",
        "include a markdown block at the top to document the purpose, author, and date;\n",
        "\"tell a story\" about the mathematical or scientific idea being explored, using code and markdown blocks to present the material;\n",
        "\"bundle\" the concepts into a re-usable class and/or set of functions suitable for experimentation;\n",
        "run at least one computational experiment that addresses a scientific question;\n",
        "include graphs, figures, images, and/or animations that are clearly labelled and explained."
      ],
      "metadata": {
        "id": "x0UcXrxsliR3"
      }
    },
    {
      "cell_type": "code",
      "source": [],
      "metadata": {
        "id": "ZvrWrLf_lm8H"
      },
      "execution_count": null,
      "outputs": []
    }
  ]
}